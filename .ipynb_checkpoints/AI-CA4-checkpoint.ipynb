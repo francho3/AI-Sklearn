{
 "cells": [
  {
   "cell_type": "markdown",
   "metadata": {},
   "source": [
    "### AI Project #4: Working with sklearn \n",
    "Classifiers and Regressors: Decision Tree, KNeighbors, Logistic Regression <br>\n",
    "Ensemble: Bagging, Random Forest, Voting <br>\n",
    "\n",
    "Mahsa Eskandari Ghadi         \n",
    "Student No. 810196597"
   ]
  },
  {
   "cell_type": "markdown",
   "metadata": {},
   "source": [
    "In this project, we're looking at some Machine Learning methods with the help of SciKit-Learn Library. The project consists of 3 Parts, Part0: looking at the dataset, Part1: modeling with classifiers and optimizing them, Part2: Ensemble methods and analyzing the results."
   ]
  },
  {
   "cell_type": "code",
   "execution_count": 1,
   "metadata": {},
   "outputs": [],
   "source": [
    "import pandas as pd\n",
    "import numpy as np\n",
    "from matplotlib import pyplot as plt\n",
    "%matplotlib inline\n",
    "\n",
    "from sklearn.preprocessing import LabelEncoder\n",
    "from sklearn.preprocessing import OneHotEncoder\n",
    "from sklearn.preprocessing import LabelBinarizer\n",
    "\n",
    "from sklearn.preprocessing import StandardScaler\n",
    "\n",
    "from sklearn.model_selection import train_test_split\n",
    "#!pip install -U imbalanced-learn\n",
    "from collections import Counter\n",
    "from sklearn.metrics import confusion_matrix, classification_report\n",
    "from sklearn.metrics import accuracy_score\n",
    "from sklearn.metrics import precision_score\n",
    "from sklearn.metrics import recall_score\n",
    "from sklearn.model_selection import StratifiedKFold\n",
    "\n",
    "from sklearn.tree import DecisionTreeClassifier\n",
    "from sklearn.neighbors import KNeighborsClassifier\n",
    "from sklearn.linear_model import LogisticRegression"
   ]
  },
  {
   "cell_type": "code",
   "execution_count": 3,
   "metadata": {},
   "outputs": [],
   "source": [
    "def make_predictions (clf, accuracy_train, accuracy_test) :\n",
    "    \n",
    "    clf.fit(X_train, y_train)\n",
    "\n",
    "    pred_test = clf.predict(X_test)\n",
    "    accuracy_test.append(accuracy_score(y_true=y_test, y_pred=pred_test))\n",
    "\n",
    "    pred_train = clf.predict(X_train)\n",
    "    accuracy_train.append(accuracy_score(y_true=y_train, y_pred=pred_train))\n",
    "    \n",
    "    return accuracy_train, accuracy_test"
   ]
  },
  {
   "cell_type": "code",
   "execution_count": 164,
   "metadata": {},
   "outputs": [],
   "source": [
    "def plot_param_vs_acc (param, accuracy_train, accuracy_test, param_name) :\n",
    "\n",
    "    acc_fig = plt.figure()\n",
    "    ax = acc_fig.add_axes([0,0,1,1])\n",
    "    ax.plot(param, accuracy_train, label=\"train\", color='#FDEDEC', linewidth=5)\n",
    "    ax.plot(param, accuracy_test, label='test', color='#D4E6F1', linewidth=5)\n",
    "    ax.legend()\n",
    "    ax.set_title('Accuracy vs. {}'.format(param_name))\n",
    "    ax.set_xlabel(param_name)\n",
    "    ax.set_ylabel('accuracy')"
   ]
  },
  {
   "cell_type": "markdown",
   "metadata": {},
   "source": [
    "### <font color=\"9AC0CD\"><b> Part 0: The Dataset </b></font>\n",
    "The data of our project is a store record of customers with helpful details and the fact that they've came back for more purchases or not. Our goal is to construct a model that will determine whether the customer will come back or not with a reasonable accuracy."
   ]
  },
  {
   "cell_type": "code",
   "execution_count": 202,
   "metadata": {},
   "outputs": [
    {
     "data": {
      "text/html": [
       "<div>\n",
       "<style scoped>\n",
       "    .dataframe tbody tr th:only-of-type {\n",
       "        vertical-align: middle;\n",
       "    }\n",
       "\n",
       "    .dataframe tbody tr th {\n",
       "        vertical-align: top;\n",
       "    }\n",
       "\n",
       "    .dataframe thead th {\n",
       "        text-align: right;\n",
       "    }\n",
       "</style>\n",
       "<table border=\"1\" class=\"dataframe\">\n",
       "  <thead>\n",
       "    <tr style=\"text-align: right;\">\n",
       "      <th></th>\n",
       "      <th>Unnamed: 0</th>\n",
       "      <th>Customer ID</th>\n",
       "      <th>Total Quantity</th>\n",
       "      <th>Total Price</th>\n",
       "      <th>Country</th>\n",
       "      <th>Date</th>\n",
       "      <th>Is Back</th>\n",
       "      <th>Purchase Count</th>\n",
       "    </tr>\n",
       "  </thead>\n",
       "  <tbody>\n",
       "    <tr>\n",
       "      <th>0</th>\n",
       "      <td>0</td>\n",
       "      <td>16995</td>\n",
       "      <td>-1</td>\n",
       "      <td>-1.25</td>\n",
       "      <td>United Kingdom</td>\n",
       "      <td>2010-12-02</td>\n",
       "      <td>No</td>\n",
       "      <td>1</td>\n",
       "    </tr>\n",
       "    <tr>\n",
       "      <th>1</th>\n",
       "      <td>1</td>\n",
       "      <td>12552</td>\n",
       "      <td>85</td>\n",
       "      <td>13.52</td>\n",
       "      <td>Italy</td>\n",
       "      <td>2011-10-31</td>\n",
       "      <td>Yes</td>\n",
       "      <td>19</td>\n",
       "    </tr>\n",
       "    <tr>\n",
       "      <th>2</th>\n",
       "      <td>2</td>\n",
       "      <td>13192</td>\n",
       "      <td>298</td>\n",
       "      <td>15.90</td>\n",
       "      <td>United Kingdom</td>\n",
       "      <td>2011-05-18</td>\n",
       "      <td>Yes</td>\n",
       "      <td>33</td>\n",
       "    </tr>\n",
       "    <tr>\n",
       "      <th>3</th>\n",
       "      <td>3</td>\n",
       "      <td>16934</td>\n",
       "      <td>399</td>\n",
       "      <td>8.30</td>\n",
       "      <td>United Kingdom</td>\n",
       "      <td>2011-10-16</td>\n",
       "      <td>No</td>\n",
       "      <td>62</td>\n",
       "    </tr>\n",
       "    <tr>\n",
       "      <th>4</th>\n",
       "      <td>4</td>\n",
       "      <td>14976</td>\n",
       "      <td>27</td>\n",
       "      <td>11.90</td>\n",
       "      <td>United Kingdom</td>\n",
       "      <td>2011-01-17</td>\n",
       "      <td>Yes</td>\n",
       "      <td>16</td>\n",
       "    </tr>\n",
       "  </tbody>\n",
       "</table>\n",
       "</div>"
      ],
      "text/plain": [
       "   Unnamed: 0  Customer ID  Total Quantity  Total Price         Country  \\\n",
       "0           0        16995              -1        -1.25  United Kingdom   \n",
       "1           1        12552              85        13.52           Italy   \n",
       "2           2        13192             298        15.90  United Kingdom   \n",
       "3           3        16934             399         8.30  United Kingdom   \n",
       "4           4        14976              27        11.90  United Kingdom   \n",
       "\n",
       "         Date Is Back  Purchase Count  \n",
       "0  2010-12-02      No               1  \n",
       "1  2011-10-31     Yes              19  \n",
       "2  2011-05-18     Yes              33  \n",
       "3  2011-10-16      No              62  \n",
       "4  2011-01-17     Yes              16  "
      ]
     },
     "execution_count": 202,
     "metadata": {},
     "output_type": "execute_result"
    }
   ],
   "source": [
    "df = pd.read_csv(\"data.csv\")\n",
    "df.head()"
   ]
  },
  {
   "cell_type": "markdown",
   "metadata": {},
   "source": [
    "Looking at the data we see that we have 2 main problems. First, a categorical column(Country) needs to be converted into numerical so that our models can work with them. Second, there's a date column that's not really usable this way and it has to be converted into actual dates. Using a LabelEncoder we can fix the first problem. LabelEncoder assigns a specific number to each country. Getting help from pandas we can convert the dates in the Date column to actual usefull dates and get the year, month and day of each. Depending on the nature of the problem it sounds reasonable to have a \"Day of the Week\" column since people go shopping on the weekends more often than working days."
   ]
  },
  {
   "cell_type": "code",
   "execution_count": 203,
   "metadata": {},
   "outputs": [
    {
     "data": {
      "text/html": [
       "<div>\n",
       "<style scoped>\n",
       "    .dataframe tbody tr th:only-of-type {\n",
       "        vertical-align: middle;\n",
       "    }\n",
       "\n",
       "    .dataframe tbody tr th {\n",
       "        vertical-align: top;\n",
       "    }\n",
       "\n",
       "    .dataframe thead th {\n",
       "        text-align: right;\n",
       "    }\n",
       "</style>\n",
       "<table border=\"1\" class=\"dataframe\">\n",
       "  <thead>\n",
       "    <tr style=\"text-align: right;\">\n",
       "      <th></th>\n",
       "      <th>Total Quantity</th>\n",
       "      <th>Total Price</th>\n",
       "      <th>Country</th>\n",
       "      <th>Date</th>\n",
       "      <th>Is Back</th>\n",
       "      <th>Purchase Count</th>\n",
       "      <th>Year</th>\n",
       "      <th>Month</th>\n",
       "      <th>Day</th>\n",
       "      <th>Day of Week</th>\n",
       "    </tr>\n",
       "  </thead>\n",
       "  <tbody>\n",
       "    <tr>\n",
       "      <th>0</th>\n",
       "      <td>-1</td>\n",
       "      <td>-1.25</td>\n",
       "      <td>United Kingdom</td>\n",
       "      <td>2010-12-02</td>\n",
       "      <td>0</td>\n",
       "      <td>1</td>\n",
       "      <td>2010</td>\n",
       "      <td>12</td>\n",
       "      <td>2</td>\n",
       "      <td>3</td>\n",
       "    </tr>\n",
       "    <tr>\n",
       "      <th>1</th>\n",
       "      <td>85</td>\n",
       "      <td>13.52</td>\n",
       "      <td>Italy</td>\n",
       "      <td>2011-10-31</td>\n",
       "      <td>1</td>\n",
       "      <td>19</td>\n",
       "      <td>2011</td>\n",
       "      <td>10</td>\n",
       "      <td>31</td>\n",
       "      <td>0</td>\n",
       "    </tr>\n",
       "    <tr>\n",
       "      <th>2</th>\n",
       "      <td>298</td>\n",
       "      <td>15.90</td>\n",
       "      <td>United Kingdom</td>\n",
       "      <td>2011-05-18</td>\n",
       "      <td>1</td>\n",
       "      <td>33</td>\n",
       "      <td>2011</td>\n",
       "      <td>5</td>\n",
       "      <td>18</td>\n",
       "      <td>2</td>\n",
       "    </tr>\n",
       "    <tr>\n",
       "      <th>3</th>\n",
       "      <td>399</td>\n",
       "      <td>8.30</td>\n",
       "      <td>United Kingdom</td>\n",
       "      <td>2011-10-16</td>\n",
       "      <td>0</td>\n",
       "      <td>62</td>\n",
       "      <td>2011</td>\n",
       "      <td>10</td>\n",
       "      <td>16</td>\n",
       "      <td>6</td>\n",
       "    </tr>\n",
       "    <tr>\n",
       "      <th>4</th>\n",
       "      <td>27</td>\n",
       "      <td>11.90</td>\n",
       "      <td>United Kingdom</td>\n",
       "      <td>2011-01-17</td>\n",
       "      <td>1</td>\n",
       "      <td>16</td>\n",
       "      <td>2011</td>\n",
       "      <td>1</td>\n",
       "      <td>17</td>\n",
       "      <td>0</td>\n",
       "    </tr>\n",
       "  </tbody>\n",
       "</table>\n",
       "</div>"
      ],
      "text/plain": [
       "   Total Quantity  Total Price         Country       Date  Is Back  \\\n",
       "0              -1        -1.25  United Kingdom 2010-12-02        0   \n",
       "1              85        13.52           Italy 2011-10-31        1   \n",
       "2             298        15.90  United Kingdom 2011-05-18        1   \n",
       "3             399         8.30  United Kingdom 2011-10-16        0   \n",
       "4              27        11.90  United Kingdom 2011-01-17        1   \n",
       "\n",
       "   Purchase Count  Year  Month  Day  Day of Week  \n",
       "0               1  2010     12    2            3  \n",
       "1              19  2011     10   31            0  \n",
       "2              33  2011      5   18            2  \n",
       "3              62  2011     10   16            6  \n",
       "4              16  2011      1   17            0  "
      ]
     },
     "execution_count": 203,
     "metadata": {},
     "output_type": "execute_result"
    }
   ],
   "source": [
    "data = df.drop(columns=['Unnamed: 0', 'Customer ID'])\n",
    "\n",
    "le = LabelEncoder()\n",
    "data['Is Back'] = le.fit_transform(data['Is Back'])\n",
    "\n",
    "data['Date'] = pd.to_datetime(data['Date'])\n",
    "data['Year'] = data['Date'].dt.year\n",
    "data['Month'] = data['Date'].dt.month\n",
    "data['Day'] = data['Date'].dt.day\n",
    "data['Day of Week'] = data['Date'].dt.dayofweek\n",
    "\n",
    "data.head()"
   ]
  },
  {
   "cell_type": "code",
   "execution_count": 204,
   "metadata": {},
   "outputs": [
    {
     "data": {
      "text/html": [
       "<div>\n",
       "<style scoped>\n",
       "    .dataframe tbody tr th:only-of-type {\n",
       "        vertical-align: middle;\n",
       "    }\n",
       "\n",
       "    .dataframe tbody tr th {\n",
       "        vertical-align: top;\n",
       "    }\n",
       "\n",
       "    .dataframe thead th {\n",
       "        text-align: right;\n",
       "    }\n",
       "</style>\n",
       "<table border=\"1\" class=\"dataframe\">\n",
       "  <thead>\n",
       "    <tr style=\"text-align: right;\">\n",
       "      <th></th>\n",
       "      <th>Total Quantity</th>\n",
       "      <th>Total Price</th>\n",
       "      <th>Country</th>\n",
       "      <th>Is Back</th>\n",
       "      <th>Purchase Count</th>\n",
       "      <th>Year</th>\n",
       "      <th>Month</th>\n",
       "      <th>Day</th>\n",
       "      <th>Day of Week</th>\n",
       "    </tr>\n",
       "  </thead>\n",
       "  <tbody>\n",
       "    <tr>\n",
       "      <th>0</th>\n",
       "      <td>-1</td>\n",
       "      <td>-1.25</td>\n",
       "      <td>United Kingdom</td>\n",
       "      <td>0</td>\n",
       "      <td>1</td>\n",
       "      <td>2010</td>\n",
       "      <td>12</td>\n",
       "      <td>2</td>\n",
       "      <td>3</td>\n",
       "    </tr>\n",
       "    <tr>\n",
       "      <th>1</th>\n",
       "      <td>85</td>\n",
       "      <td>13.52</td>\n",
       "      <td>Italy</td>\n",
       "      <td>1</td>\n",
       "      <td>19</td>\n",
       "      <td>2011</td>\n",
       "      <td>10</td>\n",
       "      <td>31</td>\n",
       "      <td>0</td>\n",
       "    </tr>\n",
       "    <tr>\n",
       "      <th>2</th>\n",
       "      <td>298</td>\n",
       "      <td>15.90</td>\n",
       "      <td>United Kingdom</td>\n",
       "      <td>1</td>\n",
       "      <td>33</td>\n",
       "      <td>2011</td>\n",
       "      <td>5</td>\n",
       "      <td>18</td>\n",
       "      <td>2</td>\n",
       "    </tr>\n",
       "    <tr>\n",
       "      <th>3</th>\n",
       "      <td>399</td>\n",
       "      <td>8.30</td>\n",
       "      <td>United Kingdom</td>\n",
       "      <td>0</td>\n",
       "      <td>62</td>\n",
       "      <td>2011</td>\n",
       "      <td>10</td>\n",
       "      <td>16</td>\n",
       "      <td>6</td>\n",
       "    </tr>\n",
       "    <tr>\n",
       "      <th>4</th>\n",
       "      <td>27</td>\n",
       "      <td>11.90</td>\n",
       "      <td>United Kingdom</td>\n",
       "      <td>1</td>\n",
       "      <td>16</td>\n",
       "      <td>2011</td>\n",
       "      <td>1</td>\n",
       "      <td>17</td>\n",
       "      <td>0</td>\n",
       "    </tr>\n",
       "  </tbody>\n",
       "</table>\n",
       "</div>"
      ],
      "text/plain": [
       "   Total Quantity  Total Price         Country  Is Back  Purchase Count  Year  \\\n",
       "0              -1        -1.25  United Kingdom        0               1  2010   \n",
       "1              85        13.52           Italy        1              19  2011   \n",
       "2             298        15.90  United Kingdom        1              33  2011   \n",
       "3             399         8.30  United Kingdom        0              62  2011   \n",
       "4              27        11.90  United Kingdom        1              16  2011   \n",
       "\n",
       "   Month  Day  Day of Week  \n",
       "0     12    2            3  \n",
       "1     10   31            0  \n",
       "2      5   18            2  \n",
       "3     10   16            6  \n",
       "4      1   17            0  "
      ]
     },
     "execution_count": 204,
     "metadata": {},
     "output_type": "execute_result"
    }
   ],
   "source": [
    "clean_data = data.drop(columns=['Date'])\n",
    "clean_data.head()"
   ]
  },
  {
   "cell_type": "markdown",
   "metadata": {},
   "source": [
    "After cleaning the data, we have to decide what we want to guess with our model(target) and what we want to use to guess the target(features)."
   ]
  },
  {
   "cell_type": "code",
   "execution_count": 168,
   "metadata": {},
   "outputs": [],
   "source": [
    "# split dataset in features and target variable\n",
    "X = clean_data.drop(columns=['Is Back'])  # Features\n",
    "y = clean_data['Is Back']  # Target variable"
   ]
  },
  {
   "cell_type": "code",
   "execution_count": 170,
   "metadata": {},
   "outputs": [
    {
     "data": {
      "text/html": [
       "<div>\n",
       "<style scoped>\n",
       "    .dataframe tbody tr th:only-of-type {\n",
       "        vertical-align: middle;\n",
       "    }\n",
       "\n",
       "    .dataframe tbody tr th {\n",
       "        vertical-align: top;\n",
       "    }\n",
       "\n",
       "    .dataframe thead th {\n",
       "        text-align: right;\n",
       "    }\n",
       "</style>\n",
       "<table border=\"1\" class=\"dataframe\">\n",
       "  <thead>\n",
       "    <tr style=\"text-align: right;\">\n",
       "      <th></th>\n",
       "      <th>Total Quantity</th>\n",
       "      <th>Total Price</th>\n",
       "      <th>Country</th>\n",
       "      <th>Purchase Count</th>\n",
       "      <th>Year</th>\n",
       "      <th>Month</th>\n",
       "      <th>Day</th>\n",
       "      <th>Day of Week</th>\n",
       "    </tr>\n",
       "  </thead>\n",
       "  <tbody>\n",
       "    <tr>\n",
       "      <th>0</th>\n",
       "      <td>-1</td>\n",
       "      <td>-1.25</td>\n",
       "      <td>35</td>\n",
       "      <td>1</td>\n",
       "      <td>2010</td>\n",
       "      <td>12</td>\n",
       "      <td>2</td>\n",
       "      <td>3</td>\n",
       "    </tr>\n",
       "    <tr>\n",
       "      <th>1</th>\n",
       "      <td>85</td>\n",
       "      <td>13.52</td>\n",
       "      <td>18</td>\n",
       "      <td>19</td>\n",
       "      <td>2011</td>\n",
       "      <td>10</td>\n",
       "      <td>31</td>\n",
       "      <td>0</td>\n",
       "    </tr>\n",
       "    <tr>\n",
       "      <th>2</th>\n",
       "      <td>298</td>\n",
       "      <td>15.90</td>\n",
       "      <td>35</td>\n",
       "      <td>33</td>\n",
       "      <td>2011</td>\n",
       "      <td>5</td>\n",
       "      <td>18</td>\n",
       "      <td>2</td>\n",
       "    </tr>\n",
       "    <tr>\n",
       "      <th>3</th>\n",
       "      <td>399</td>\n",
       "      <td>8.30</td>\n",
       "      <td>35</td>\n",
       "      <td>62</td>\n",
       "      <td>2011</td>\n",
       "      <td>10</td>\n",
       "      <td>16</td>\n",
       "      <td>6</td>\n",
       "    </tr>\n",
       "    <tr>\n",
       "      <th>4</th>\n",
       "      <td>27</td>\n",
       "      <td>11.90</td>\n",
       "      <td>35</td>\n",
       "      <td>16</td>\n",
       "      <td>2011</td>\n",
       "      <td>1</td>\n",
       "      <td>17</td>\n",
       "      <td>0</td>\n",
       "    </tr>\n",
       "  </tbody>\n",
       "</table>\n",
       "</div>"
      ],
      "text/plain": [
       "   Total Quantity  Total Price  Country  Purchase Count  Year  Month  Day  \\\n",
       "0              -1        -1.25       35               1  2010     12    2   \n",
       "1              85        13.52       18              19  2011     10   31   \n",
       "2             298        15.90       35              33  2011      5   18   \n",
       "3             399         8.30       35              62  2011     10   16   \n",
       "4              27        11.90       35              16  2011      1   17   \n",
       "\n",
       "   Day of Week  \n",
       "0            3  \n",
       "1            0  \n",
       "2            2  \n",
       "3            6  \n",
       "4            0  "
      ]
     },
     "execution_count": 170,
     "metadata": {},
     "output_type": "execute_result"
    }
   ],
   "source": [
    "X['Country'] = le.fit_transform(X['Country'])\n",
    "X.head()"
   ]
  },
  {
   "cell_type": "markdown",
   "metadata": {},
   "source": [
    "Usually in the real world when classifying some data, you have more from one class to train your data one which doesn't seem fair to know more about one class and less about other ones, you can balane the training data with a RandomOverSampler or you can leave it alone and let nature do it's thing. Here since I got better results without oversampling I commented it out."
   ]
  },
  {
   "cell_type": "code",
   "execution_count": 171,
   "metadata": {},
   "outputs": [],
   "source": [
    "# from imblearn.over_sampling import RandomOverSampler\n",
    "# ros = RandomOverSampler(random_state=101)\n",
    "# X_resampled, y_resampled = ros.fit_resample(X, y)\n",
    "# print(sorted(Counter(y_resampled).items()))\n",
    "# print()\n",
    "# print(X_resampled.tail())\n",
    "\n",
    "# # from imblearn.over_sampling import SMOTE\n",
    "# # sm = SMOTE(random_state =101)\n",
    "# # X_resampled, y_resampled = sm.fit_sample(X, y.ravel())\n",
    "# # print(sorted(Counter(y_resampled).items()))\n",
    "# # print()\n",
    "# # print(X_resampled.tail())"
   ]
  },
  {
   "cell_type": "markdown",
   "metadata": {},
   "source": [
    "Plotting the Information Gain can be helpful since it's the reduction in entropy or surprise by transforming a dataset which basically means that it shows how much a feature can help the model get closer to finding out the target."
   ]
  },
  {
   "cell_type": "code",
   "execution_count": 139,
   "metadata": {},
   "outputs": [],
   "source": [
    "from sklearn.feature_selection import mutual_info_classif"
   ]
  },
  {
   "cell_type": "code",
   "execution_count": 172,
   "metadata": {},
   "outputs": [
    {
     "data": {
      "text/plain": [
       "Text(0, 0.5, 'Gain')"
      ]
     },
     "execution_count": 172,
     "metadata": {},
     "output_type": "execute_result"
    },
    {
     "data": {
      "image/png": "[encoded data removed]",
      "text/plain": [
       "<Figure size 432x288 with 1 Axes>"
      ]
     },
     "metadata": {
      "needs_background": "light"
     },
     "output_type": "display_data"
    }
   ],
   "source": [
    "mic = mutual_info_classif(X, y, discrete_features=True)\n",
    "plt.plot(X.columns, mic, color='#D7BDE2', linestyle='dashed', marker='o', markerfacecolor='#A3E4D7', markersize=10)\n",
    "plt.title('Gain vs Features values')\n",
    "plt.xlabel('Features')\n",
    "plt.ylabel('Gain')"
   ]
  },
  {
   "cell_type": "markdown",
   "metadata": {},
   "source": [
    "The plot above depicts that Total Quantity and Total Price are the features that help us best in choosing a class and after that Month is the best feature which makes sense because for instance people usually don't go back to a store after shopping for Christmas until the end of the holidays. "
   ]
  },
  {
   "cell_type": "markdown",
   "metadata": {},
   "source": [
    "### <font color=\"9AC0CD\"><b> Part 1: Classifiers </b></font>"
   ]
  },
  {
   "cell_type": "markdown",
   "metadata": {},
   "source": [
    "####  <font color=\"D7BDE2\"><b> 1.1: Decision Tree</b></font>\n",
    "\n",
    "like any other classifying problems we have to split the data into these four dataframes."
   ]
  },
  {
   "cell_type": "code",
   "execution_count": 176,
   "metadata": {},
   "outputs": [],
   "source": [
    "X_train, X_test, y_train, y_test = train_test_split(X, y, stratify=y, test_size=0.2, random_state=101) "
   ]
  },
  {
   "cell_type": "markdown",
   "metadata": {},
   "source": [
    "To get better precision and recall it is nice to prune the tree and only use the nodes that are actually usefull. In DecisionTreeClassifier, pruning technique is parameterized by the cost complexity parameter, ccp_alpha. Greater values of ccp_alpha increase the number of nodes pruned. To get an idea of what values of ccp_alpha could be appropriate, scikit-learn provides <font color=\"9AC0CD\"><b>DecisionTreeClassifier.cost_complexity_pruning_path </b></font> that returns the<font color=\"9AC0CD\"><b> effective alphas </b></font> and the corresponding total leaf impurities at each step of the pruning process. As alpha increases, more of the tree is pruned, which increases the total impurity of its leaves.[1]"
   ]
  },
  {
   "cell_type": "code",
   "execution_count": 177,
   "metadata": {},
   "outputs": [],
   "source": [
    "clf = DecisionTreeClassifier(random_state=101, criterion='entropy')\n",
    "path = clf.cost_complexity_pruning_path(X_train, y_train)\n",
    "ccp_alphas, impurities = path.ccp_alphas, path.impurities"
   ]
  },
  {
   "cell_type": "markdown",
   "metadata": {},
   "source": [
    "Next, we train a decision tree using the effective alphas. The last value in ccp_alphas is the alpha value that prunes the whole tree, leaving the tree, clfs[-1], with one node. we remove the last element in clfs and ccp_alphas, because it is the trivial tree with only one node. [1]"
   ]
  },
  {
   "cell_type": "code",
   "execution_count": 155,
   "metadata": {},
   "outputs": [],
   "source": [
    "clfs = []\n",
    "for ccp_alpha in ccp_alphas:\n",
    "    clf = DecisionTreeClassifier(random_state=0, ccp_alpha=ccp_alpha)\n",
    "    clf.fit(X_train, y_train)\n",
    "    clfs.append(clf)"
   ]
  },
  {
   "cell_type": "code",
   "execution_count": 156,
   "metadata": {},
   "outputs": [],
   "source": [
    "clfs = clfs[:-1]\n",
    "ccp_alphas = ccp_alphas[:-1]\n",
    "\n",
    "node_counts = [clf.tree_.node_count for clf in clfs]\n",
    "depth = [clf.tree_.max_depth for clf in clfs]"
   ]
  },
  {
   "cell_type": "markdown",
   "metadata": {},
   "source": [
    "When ccp_alpha is set to zero and keeping the other default parameters of DecisionTreeClassifier, the tree overfits, leading to a 100% training accuracy and 60% testing accuracy. As alpha increases, more of the tree is pruned, thus creating a decision tree that generalizes better. Here, setting anything after ccp_alpha=0.002 maximizes the testing accuracy. [1]"
   ]
  },
  {
   "cell_type": "code",
   "execution_count": 157,
   "metadata": {},
   "outputs": [
    {
     "data": {
      "image/png": "[encoded data removed]",
      "text/plain": [
       "<Figure size 432x288 with 1 Axes>"
      ]
     },
     "metadata": {
      "needs_background": "light"
     },
     "output_type": "display_data"
    }
   ],
   "source": [
    "train_scores = [clf.score(X_train, y_train) for clf in clfs]\n",
    "test_scores = [clf.score(X_test, y_test) for clf in clfs]\n",
    "\n",
    "fig, ax = plt.subplots()\n",
    "ax.set_xlabel(\"alpha\")\n",
    "ax.set_ylabel(\"accuracy\")\n",
    "ax.set_title(\"Accuracy vs alpha for training and testing sets\")\n",
    "ax.plot(ccp_alphas, train_scores, label=\"train\", drawstyle=\"steps-post\", color='#FCF3CF', linestyle=\"dashed\", marker='o')\n",
    "ax.plot(ccp_alphas, test_scores, label=\"test\", drawstyle=\"steps-post\", color='#D4E6F1', linestyle=\"dashed\", marker='o')\n",
    "ax.legend()\n",
    "plt.show()"
   ]
  },
  {
   "cell_type": "code",
   "execution_count": 158,
   "metadata": {},
   "outputs": [
    {
     "data": {
      "image/png": "[encoded data removed]",
      "text/plain": [
       "<Figure size 432x288 with 1 Axes>"
      ]
     },
     "metadata": {
      "needs_background": "light"
     },
     "output_type": "display_data"
    }
   ],
   "source": [
    "error_rate = []\n",
    "\n",
    "accuracy_test = []\n",
    "accuracy_train = []\n",
    "\n",
    "depths = range(1, 20)\n",
    "\n",
    "for depth in depths:\n",
    "\n",
    "    dtree = DecisionTreeClassifier(max_depth=depth, random_state=101, ccp_alpha=0.0023)\n",
    "    accuracy_train, accuracy_test = make_predictions(dtree, accuracy_train, accuracy_test)\n",
    "\n",
    "plot_param_vs_acc(depths, accuracy_train, accuracy_test, \"Max Depth\")"
   ]
  },
  {
   "cell_type": "markdown",
   "metadata": {},
   "source": [
    "As we can see after a little less than 2.5 the tree overfits, with less than 75% training accuracy and less than 74% testing accuracy which is not really that much of overfitting.<br>\n",
    "Now that we know the best alpha and max_depth to use we model the Decision Tree."
   ]
  },
  {
   "cell_type": "code",
   "execution_count": 178,
   "metadata": {},
   "outputs": [
    {
     "name": "stdout",
     "output_type": "stream",
     "text": [
      "[[ 90 186]\n",
      " [ 45 553]]\n",
      "\n",
      "Precision:  0.7225268855494622\n",
      "Recall:  0.7356979405034325\n",
      "\n",
      "Train Accuracy:  0.7462772050400917\n",
      "Test Accuracy:  0.7356979405034325\n"
     ]
    }
   ],
   "source": [
    "dtree = DecisionTreeClassifier(max_depth = 3, ccp_alpha=0.0023, criterion='entropy')\n",
    "dtree.fit(X_train, y_train)\n",
    "y_pred_test = dtree.predict(X_test)\n",
    "y_pred_train = dtree.predict(X_train)\n",
    "print(confusion_matrix(y_test, y_pred_test))\n",
    "print()\n",
    "print('Precision: ', precision_score(y_true=y_test, y_pred=y_pred_test, average='weighted'))\n",
    "print('Recall: ', recall_score(y_true=y_test, y_pred=y_pred_test, average='weighted'))\n",
    "print()\n",
    "print('Train Accuracy: ', accuracy_score(y_true=y_train, y_pred=y_pred_train))\n",
    "print('Test Accuracy: ', accuracy_score(y_true=y_test, y_pred=y_pred_test))"
   ]
  },
  {
   "cell_type": "markdown",
   "metadata": {},
   "source": [
    "The average Precision and Recall are looking good enough and the train-test accuracies show almost zero overfitting. Down here we plot the tree to have a better understanding of what's actually happening and with what features the tree is spliting."
   ]
  },
  {
   "cell_type": "code",
   "execution_count": 74,
   "metadata": {},
   "outputs": [],
   "source": [
    "from sklearn.tree import plot_tree"
   ]
  },
  {
   "cell_type": "code",
   "execution_count": 179,
   "metadata": {},
   "outputs": [
    {
     "data": {
      "text/plain": [
       "['Total Quantity',\n",
       " 'Total Price',\n",
       " 'Country',\n",
       " 'Purchase Count',\n",
       " 'Year',\n",
       " 'Month',\n",
       " 'Day',\n",
       " 'Day of Week']"
      ]
     },
     "execution_count": 179,
     "metadata": {},
     "output_type": "execute_result"
    }
   ],
   "source": [
    "classes = list(y.unique())\n",
    "features = list(X.columns)\n",
    "features"
   ]
  },
  {
   "cell_type": "code",
   "execution_count": 94,
   "metadata": {},
   "outputs": [
    {
     "data": {
      "text/plain": [
       "[Text(136.96363636363637, 190.26, 'Year <= -0.751\\nentropy = 0.906\\nsamples = 3349\\nvalue = [1076, 2273]'),\n",
       " Text(60.872727272727275, 135.9, 'Total Quantity <= -0.361\\nentropy = 0.504\\nsamples = 665\\nvalue = [74, 591]'),\n",
       " Text(30.436363636363637, 81.53999999999999, 'entropy = 0.662\\nsamples = 227\\nvalue = [39, 188]'),\n",
       " Text(91.30909090909091, 81.53999999999999, 'entropy = 0.402\\nsamples = 438\\nvalue = [35, 403]'),\n",
       " Text(213.05454545454546, 135.9, 'Month <= 0.639\\nentropy = 0.953\\nsamples = 2684\\nvalue = [1002, 1682]'),\n",
       " Text(152.1818181818182, 81.53999999999999, 'Month <= -1.128\\nentropy = 0.87\\nsamples = 2112\\nvalue = [614, 1498]'),\n",
       " Text(121.74545454545455, 27.180000000000007, 'entropy = 0.694\\nsamples = 606\\nvalue = [113, 493]'),\n",
       " Text(182.61818181818182, 27.180000000000007, 'entropy = 0.918\\nsamples = 1506\\nvalue = [501, 1005]'),\n",
       " Text(273.92727272727274, 81.53999999999999, 'Month <= 1.144\\nentropy = 0.906\\nsamples = 572\\nvalue = [388, 184]'),\n",
       " Text(243.4909090909091, 27.180000000000007, 'entropy = 0.925\\nsamples = 538\\nvalue = [355, 183]'),\n",
       " Text(304.3636363636364, 27.180000000000007, 'entropy = 0.191\\nsamples = 34\\nvalue = [33, 1]')]"
      ]
     },
     "execution_count": 94,
     "metadata": {},
     "output_type": "execute_result"
    },
    {
     "data": {
      "image/png": "[encoded data removed]",
      "text/plain": [
       "<Figure size 432x288 with 1 Axes>"
      ]
     },
     "metadata": {
      "needs_background": "light"
     },
     "output_type": "display_data"
    }
   ],
   "source": [
    "plot_tree(dtree, feature_names=features, filled=True, rounded=True, fontsize=11)"
   ]
  },
  {
   "cell_type": "markdown",
   "metadata": {},
   "source": [
    "####  <font color=\"D7BDE2\"><b> 1.2: KNeighbors </b></font>\n",
    "\n",
    "Since this algorithm works with distance, when for example the changes Total Price is in a higher order than something like Country obviously the distance will be biased towards the Total Price. But when we scale the data it will give similar weightage to both the variables. Hence, it is always advisable to bring all the features to the same scale for applying distance based algorithms like KNN. [2]"
   ]
  },
  {
   "cell_type": "code",
   "execution_count": 98,
   "metadata": {},
   "outputs": [
    {
     "data": {
      "text/html": [
       "<div>\n",
       "<style scoped>\n",
       "    .dataframe tbody tr th:only-of-type {\n",
       "        vertical-align: middle;\n",
       "    }\n",
       "\n",
       "    .dataframe tbody tr th {\n",
       "        vertical-align: top;\n",
       "    }\n",
       "\n",
       "    .dataframe thead th {\n",
       "        text-align: right;\n",
       "    }\n",
       "</style>\n",
       "<table border=\"1\" class=\"dataframe\">\n",
       "  <thead>\n",
       "    <tr style=\"text-align: right;\">\n",
       "      <th></th>\n",
       "      <th>Total Quantity</th>\n",
       "      <th>Total Price</th>\n",
       "      <th>Country</th>\n",
       "      <th>Purchase Count</th>\n",
       "      <th>Year</th>\n",
       "      <th>Month</th>\n",
       "      <th>Day</th>\n",
       "      <th>Day of Week</th>\n",
       "    </tr>\n",
       "  </thead>\n",
       "  <tbody>\n",
       "    <tr>\n",
       "      <th>0</th>\n",
       "      <td>-0.377948</td>\n",
       "      <td>-0.036228</td>\n",
       "      <td>-2.473303</td>\n",
       "      <td>-0.226948</td>\n",
       "      <td>0.499477</td>\n",
       "      <td>0.765147</td>\n",
       "      <td>1.988744</td>\n",
       "      <td>-1.409191</td>\n",
       "    </tr>\n",
       "    <tr>\n",
       "      <th>1</th>\n",
       "      <td>0.099472</td>\n",
       "      <td>-0.034247</td>\n",
       "      <td>0.291084</td>\n",
       "      <td>0.373487</td>\n",
       "      <td>0.499477</td>\n",
       "      <td>-0.496836</td>\n",
       "      <td>0.470925</td>\n",
       "      <td>-0.314112</td>\n",
       "    </tr>\n",
       "    <tr>\n",
       "      <th>2</th>\n",
       "      <td>0.325854</td>\n",
       "      <td>-0.040573</td>\n",
       "      <td>0.291084</td>\n",
       "      <td>1.617245</td>\n",
       "      <td>0.499477</td>\n",
       "      <td>0.765147</td>\n",
       "      <td>0.237415</td>\n",
       "      <td>1.876044</td>\n",
       "    </tr>\n",
       "    <tr>\n",
       "      <th>3</th>\n",
       "      <td>-0.507949</td>\n",
       "      <td>-0.037577</td>\n",
       "      <td>0.291084</td>\n",
       "      <td>-0.355613</td>\n",
       "      <td>0.499477</td>\n",
       "      <td>-1.506422</td>\n",
       "      <td>0.354170</td>\n",
       "      <td>-1.409191</td>\n",
       "    </tr>\n",
       "    <tr>\n",
       "      <th>4</th>\n",
       "      <td>0.695686</td>\n",
       "      <td>0.122314</td>\n",
       "      <td>0.291084</td>\n",
       "      <td>-0.484277</td>\n",
       "      <td>-2.002092</td>\n",
       "      <td>1.269940</td>\n",
       "      <td>-0.229607</td>\n",
       "      <td>1.876044</td>\n",
       "    </tr>\n",
       "  </tbody>\n",
       "</table>\n",
       "</div>"
      ],
      "text/plain": [
       "   Total Quantity  Total Price   Country  Purchase Count      Year     Month  \\\n",
       "0       -0.377948    -0.036228 -2.473303       -0.226948  0.499477  0.765147   \n",
       "1        0.099472    -0.034247  0.291084        0.373487  0.499477 -0.496836   \n",
       "2        0.325854    -0.040573  0.291084        1.617245  0.499477  0.765147   \n",
       "3       -0.507949    -0.037577  0.291084       -0.355613  0.499477 -1.506422   \n",
       "4        0.695686     0.122314  0.291084       -0.484277 -2.002092  1.269940   \n",
       "\n",
       "        Day  Day of Week  \n",
       "0  1.988744    -1.409191  \n",
       "1  0.470925    -0.314112  \n",
       "2  0.237415     1.876044  \n",
       "3  0.354170    -1.409191  \n",
       "4 -0.229607     1.876044  "
      ]
     },
     "execution_count": 98,
     "metadata": {},
     "output_type": "execute_result"
    }
   ],
   "source": [
    "scaler = StandardScaler()\n",
    "scaled_features = scaler.fit_transform(X)\n",
    "data_feat = pd.DataFrame(scaled_features, columns=X.columns)\n",
    "#print(data_feat.head())\n",
    "X_scaled = data_feat\n",
    "X_scaled.head()"
   ]
  },
  {
   "cell_type": "code",
   "execution_count": 99,
   "metadata": {},
   "outputs": [],
   "source": [
    "X_train, X_test, y_train, y_test = train_test_split(X_scaled, y, stratify=y, test_size=0.2, random_state=101)"
   ]
  },
  {
   "cell_type": "markdown",
   "metadata": {},
   "source": [
    "Like max_depth for decision tree we need to tune the hyperparameters here to get the best results with the lowest overfitting. In KNN an important hyperparameter is the number of neighbors. And just with try and error we find the best n_neighbors value."
   ]
  },
  {
   "cell_type": "code",
   "execution_count": 100,
   "metadata": {},
   "outputs": [
    {
     "data": {
      "image/png": "[encoded data removed]",
      "text/plain": [
       "<Figure size 432x288 with 1 Axes>"
      ]
     },
     "metadata": {
      "needs_background": "light"
     },
     "output_type": "display_data"
    }
   ],
   "source": [
    "error_rate = []\n",
    "accuracy_test = []\n",
    "accuracy_train = []\n",
    "\n",
    "ks = range(1, 80)\n",
    "for k in ks:\n",
    "    knn = KNeighborsClassifier(n_neighbors=k)\n",
    "    accuracy_train, accuracy_test = make_predictions(knn, accuracy_train, accuracy_test)\n",
    "\n",
    "plot_param_vs_acc(ks, accuracy_train, accuracy_test, 'K Value')"
   ]
  },
  {
   "cell_type": "code",
   "execution_count": 101,
   "metadata": {},
   "outputs": [
    {
     "name": "stdout",
     "output_type": "stream",
     "text": [
      "[[108 161]\n",
      " [ 47 522]]\n",
      "\n",
      "Precision:  0.7426072540037538\n",
      "Recall:  0.7517899761336515\n",
      "\n",
      "Train Accuracy:  0.7378321887130487\n",
      "Test Accuracy:  0.7517899761336515\n"
     ]
    }
   ],
   "source": [
    "knn = KNeighborsClassifier(n_neighbors=43)\n",
    "knn.fit(X_train, y_train)\n",
    "y_pred_test = knn.predict(X_test)\n",
    "y_pred_train = knn.predict(X_train)\n",
    "print(confusion_matrix(y_test, y_pred_test))\n",
    "print()\n",
    "print('Precision: ', precision_score(y_true=y_test, y_pred=y_pred_test, average='weighted'))\n",
    "print('Recall: ', recall_score(y_true=y_test, y_pred=y_pred_test, average='weighted'))\n",
    "print()\n",
    "print('Train Accuracy: ', accuracy_score(y_true=y_train, y_pred=y_pred_train))\n",
    "print('Test Accuracy: ', accuracy_score(y_true=y_test, y_pred=y_pred_test))"
   ]
  },
  {
   "cell_type": "markdown",
   "metadata": {},
   "source": [
    "We can see that once again we got the result we were expecting and it's also very close to our decision tree."
   ]
  },
  {
   "cell_type": "markdown",
   "metadata": {},
   "source": [
    "####  <font color=\"D7BDE2\"><b> 1.3: Logistic Regression </b></font>\n",
    "\n",
    "Before we saw that with a LabelEncoder we can assign a value to each country, but we can't just do that in Logistic Regression since the bigger the value is the more biased the outcome will be towards that, meaning the country with the biggest label number gets the biggest score where their score should depend on the number of times that country appears and what happens to the target when it does, etc. Not it's label; the label is just a name. In this situation we use <font color=\"9AC0CD\"><b>OneHot Encoding</b></font> which creates a new column for each country and in each row the country that used to be for that row gets the value 1, and the rest get 0. <br>\n",
    "\n",
    "And again we scale the data for the same reasons we did in KNN."
   ]
  },
  {
   "cell_type": "code",
   "execution_count": 102,
   "metadata": {},
   "outputs": [],
   "source": [
    "X = clean_data.drop(columns=['Is Back'])  # Features\n",
    "y = clean_data['Is Back']  # Target variable"
   ]
  },
  {
   "cell_type": "code",
   "execution_count": 103,
   "metadata": {},
   "outputs": [
    {
     "data": {
      "text/html": [
       "<div>\n",
       "<style scoped>\n",
       "    .dataframe tbody tr th:only-of-type {\n",
       "        vertical-align: middle;\n",
       "    }\n",
       "\n",
       "    .dataframe tbody tr th {\n",
       "        vertical-align: top;\n",
       "    }\n",
       "\n",
       "    .dataframe thead th {\n",
       "        text-align: right;\n",
       "    }\n",
       "</style>\n",
       "<table border=\"1\" class=\"dataframe\">\n",
       "  <thead>\n",
       "    <tr style=\"text-align: right;\">\n",
       "      <th></th>\n",
       "      <th>Total Quantity</th>\n",
       "      <th>Total Price</th>\n",
       "      <th>Purchase Count</th>\n",
       "      <th>Year</th>\n",
       "      <th>Month</th>\n",
       "      <th>Day</th>\n",
       "      <th>Day of Week</th>\n",
       "      <th>0</th>\n",
       "      <th>1</th>\n",
       "      <th>2</th>\n",
       "      <th>...</th>\n",
       "      <th>27</th>\n",
       "      <th>28</th>\n",
       "      <th>29</th>\n",
       "      <th>30</th>\n",
       "      <th>31</th>\n",
       "      <th>32</th>\n",
       "      <th>33</th>\n",
       "      <th>34</th>\n",
       "      <th>35</th>\n",
       "      <th>36</th>\n",
       "    </tr>\n",
       "  </thead>\n",
       "  <tbody>\n",
       "    <tr>\n",
       "      <th>0</th>\n",
       "      <td>85</td>\n",
       "      <td>13.52</td>\n",
       "      <td>19</td>\n",
       "      <td>2011</td>\n",
       "      <td>10</td>\n",
       "      <td>31</td>\n",
       "      <td>0</td>\n",
       "      <td>0</td>\n",
       "      <td>0</td>\n",
       "      <td>0</td>\n",
       "      <td>...</td>\n",
       "      <td>0</td>\n",
       "      <td>0</td>\n",
       "      <td>0</td>\n",
       "      <td>0</td>\n",
       "      <td>0</td>\n",
       "      <td>0</td>\n",
       "      <td>0</td>\n",
       "      <td>0</td>\n",
       "      <td>0</td>\n",
       "      <td>0</td>\n",
       "    </tr>\n",
       "    <tr>\n",
       "      <th>1</th>\n",
       "      <td>298</td>\n",
       "      <td>15.90</td>\n",
       "      <td>33</td>\n",
       "      <td>2011</td>\n",
       "      <td>5</td>\n",
       "      <td>18</td>\n",
       "      <td>2</td>\n",
       "      <td>0</td>\n",
       "      <td>0</td>\n",
       "      <td>0</td>\n",
       "      <td>...</td>\n",
       "      <td>0</td>\n",
       "      <td>0</td>\n",
       "      <td>0</td>\n",
       "      <td>0</td>\n",
       "      <td>0</td>\n",
       "      <td>0</td>\n",
       "      <td>0</td>\n",
       "      <td>0</td>\n",
       "      <td>1</td>\n",
       "      <td>0</td>\n",
       "    </tr>\n",
       "    <tr>\n",
       "      <th>2</th>\n",
       "      <td>399</td>\n",
       "      <td>8.30</td>\n",
       "      <td>62</td>\n",
       "      <td>2011</td>\n",
       "      <td>10</td>\n",
       "      <td>16</td>\n",
       "      <td>6</td>\n",
       "      <td>0</td>\n",
       "      <td>0</td>\n",
       "      <td>0</td>\n",
       "      <td>...</td>\n",
       "      <td>0</td>\n",
       "      <td>0</td>\n",
       "      <td>0</td>\n",
       "      <td>0</td>\n",
       "      <td>0</td>\n",
       "      <td>0</td>\n",
       "      <td>0</td>\n",
       "      <td>0</td>\n",
       "      <td>1</td>\n",
       "      <td>0</td>\n",
       "    </tr>\n",
       "    <tr>\n",
       "      <th>3</th>\n",
       "      <td>27</td>\n",
       "      <td>11.90</td>\n",
       "      <td>16</td>\n",
       "      <td>2011</td>\n",
       "      <td>1</td>\n",
       "      <td>17</td>\n",
       "      <td>0</td>\n",
       "      <td>0</td>\n",
       "      <td>0</td>\n",
       "      <td>0</td>\n",
       "      <td>...</td>\n",
       "      <td>0</td>\n",
       "      <td>0</td>\n",
       "      <td>0</td>\n",
       "      <td>0</td>\n",
       "      <td>0</td>\n",
       "      <td>0</td>\n",
       "      <td>0</td>\n",
       "      <td>0</td>\n",
       "      <td>1</td>\n",
       "      <td>0</td>\n",
       "    </tr>\n",
       "    <tr>\n",
       "      <th>4</th>\n",
       "      <td>564</td>\n",
       "      <td>204.00</td>\n",
       "      <td>13</td>\n",
       "      <td>2010</td>\n",
       "      <td>12</td>\n",
       "      <td>12</td>\n",
       "      <td>6</td>\n",
       "      <td>0</td>\n",
       "      <td>0</td>\n",
       "      <td>0</td>\n",
       "      <td>...</td>\n",
       "      <td>0</td>\n",
       "      <td>0</td>\n",
       "      <td>0</td>\n",
       "      <td>0</td>\n",
       "      <td>0</td>\n",
       "      <td>0</td>\n",
       "      <td>0</td>\n",
       "      <td>0</td>\n",
       "      <td>1</td>\n",
       "      <td>0</td>\n",
       "    </tr>\n",
       "    <tr>\n",
       "      <th>...</th>\n",
       "      <td>...</td>\n",
       "      <td>...</td>\n",
       "      <td>...</td>\n",
       "      <td>...</td>\n",
       "      <td>...</td>\n",
       "      <td>...</td>\n",
       "      <td>...</td>\n",
       "      <td>...</td>\n",
       "      <td>...</td>\n",
       "      <td>...</td>\n",
       "      <td>...</td>\n",
       "      <td>...</td>\n",
       "      <td>...</td>\n",
       "      <td>...</td>\n",
       "      <td>...</td>\n",
       "      <td>...</td>\n",
       "      <td>...</td>\n",
       "      <td>...</td>\n",
       "      <td>...</td>\n",
       "      <td>...</td>\n",
       "      <td>...</td>\n",
       "    </tr>\n",
       "    <tr>\n",
       "      <th>4182</th>\n",
       "      <td>58</td>\n",
       "      <td>20.40</td>\n",
       "      <td>5</td>\n",
       "      <td>2011</td>\n",
       "      <td>3</td>\n",
       "      <td>20</td>\n",
       "      <td>6</td>\n",
       "      <td>0</td>\n",
       "      <td>0</td>\n",
       "      <td>0</td>\n",
       "      <td>...</td>\n",
       "      <td>0</td>\n",
       "      <td>0</td>\n",
       "      <td>0</td>\n",
       "      <td>0</td>\n",
       "      <td>0</td>\n",
       "      <td>0</td>\n",
       "      <td>0</td>\n",
       "      <td>0</td>\n",
       "      <td>1</td>\n",
       "      <td>0</td>\n",
       "    </tr>\n",
       "    <tr>\n",
       "      <th>4183</th>\n",
       "      <td>582</td>\n",
       "      <td>5.04</td>\n",
       "      <td>62</td>\n",
       "      <td>2011</td>\n",
       "      <td>10</td>\n",
       "      <td>11</td>\n",
       "      <td>1</td>\n",
       "      <td>0</td>\n",
       "      <td>0</td>\n",
       "      <td>0</td>\n",
       "      <td>...</td>\n",
       "      <td>0</td>\n",
       "      <td>0</td>\n",
       "      <td>0</td>\n",
       "      <td>0</td>\n",
       "      <td>0</td>\n",
       "      <td>1</td>\n",
       "      <td>0</td>\n",
       "      <td>0</td>\n",
       "      <td>0</td>\n",
       "      <td>0</td>\n",
       "    </tr>\n",
       "    <tr>\n",
       "      <th>4184</th>\n",
       "      <td>231</td>\n",
       "      <td>15.00</td>\n",
       "      <td>16</td>\n",
       "      <td>2011</td>\n",
       "      <td>7</td>\n",
       "      <td>25</td>\n",
       "      <td>0</td>\n",
       "      <td>0</td>\n",
       "      <td>0</td>\n",
       "      <td>0</td>\n",
       "      <td>...</td>\n",
       "      <td>0</td>\n",
       "      <td>0</td>\n",
       "      <td>0</td>\n",
       "      <td>0</td>\n",
       "      <td>0</td>\n",
       "      <td>0</td>\n",
       "      <td>0</td>\n",
       "      <td>0</td>\n",
       "      <td>1</td>\n",
       "      <td>0</td>\n",
       "    </tr>\n",
       "    <tr>\n",
       "      <th>4185</th>\n",
       "      <td>57</td>\n",
       "      <td>17.70</td>\n",
       "      <td>8</td>\n",
       "      <td>2011</td>\n",
       "      <td>5</td>\n",
       "      <td>26</td>\n",
       "      <td>3</td>\n",
       "      <td>0</td>\n",
       "      <td>0</td>\n",
       "      <td>0</td>\n",
       "      <td>...</td>\n",
       "      <td>0</td>\n",
       "      <td>0</td>\n",
       "      <td>0</td>\n",
       "      <td>0</td>\n",
       "      <td>0</td>\n",
       "      <td>0</td>\n",
       "      <td>0</td>\n",
       "      <td>0</td>\n",
       "      <td>1</td>\n",
       "      <td>0</td>\n",
       "    </tr>\n",
       "    <tr>\n",
       "      <th>4186</th>\n",
       "      <td>44</td>\n",
       "      <td>14.85</td>\n",
       "      <td>5</td>\n",
       "      <td>2011</td>\n",
       "      <td>3</td>\n",
       "      <td>14</td>\n",
       "      <td>0</td>\n",
       "      <td>0</td>\n",
       "      <td>0</td>\n",
       "      <td>0</td>\n",
       "      <td>...</td>\n",
       "      <td>0</td>\n",
       "      <td>0</td>\n",
       "      <td>0</td>\n",
       "      <td>0</td>\n",
       "      <td>0</td>\n",
       "      <td>0</td>\n",
       "      <td>0</td>\n",
       "      <td>0</td>\n",
       "      <td>1</td>\n",
       "      <td>0</td>\n",
       "    </tr>\n",
       "  </tbody>\n",
       "</table>\n",
       "<p>4187 rows × 44 columns</p>\n",
       "</div>"
      ],
      "text/plain": [
       "      Total Quantity  Total Price  Purchase Count  Year  Month  Day  \\\n",
       "0                 85        13.52              19  2011     10   31   \n",
       "1                298        15.90              33  2011      5   18   \n",
       "2                399         8.30              62  2011     10   16   \n",
       "3                 27        11.90              16  2011      1   17   \n",
       "4                564       204.00              13  2010     12   12   \n",
       "...              ...          ...             ...   ...    ...  ...   \n",
       "4182              58        20.40               5  2011      3   20   \n",
       "4183             582         5.04              62  2011     10   11   \n",
       "4184             231        15.00              16  2011      7   25   \n",
       "4185              57        17.70               8  2011      5   26   \n",
       "4186              44        14.85               5  2011      3   14   \n",
       "\n",
       "      Day of Week  0  1  2  ...  27  28  29  30  31  32  33  34  35  36  \n",
       "0               0  0  0  0  ...   0   0   0   0   0   0   0   0   0   0  \n",
       "1               2  0  0  0  ...   0   0   0   0   0   0   0   0   1   0  \n",
       "2               6  0  0  0  ...   0   0   0   0   0   0   0   0   1   0  \n",
       "3               0  0  0  0  ...   0   0   0   0   0   0   0   0   1   0  \n",
       "4               6  0  0  0  ...   0   0   0   0   0   0   0   0   1   0  \n",
       "...           ... .. .. ..  ...  ..  ..  ..  ..  ..  ..  ..  ..  ..  ..  \n",
       "4182            6  0  0  0  ...   0   0   0   0   0   0   0   0   1   0  \n",
       "4183            1  0  0  0  ...   0   0   0   0   0   1   0   0   0   0  \n",
       "4184            0  0  0  0  ...   0   0   0   0   0   0   0   0   1   0  \n",
       "4185            3  0  0  0  ...   0   0   0   0   0   0   0   0   1   0  \n",
       "4186            0  0  0  0  ...   0   0   0   0   0   0   0   0   1   0  \n",
       "\n",
       "[4187 rows x 44 columns]"
      ]
     },
     "execution_count": 103,
     "metadata": {},
     "output_type": "execute_result"
    }
   ],
   "source": [
    "lb = LabelBinarizer()\n",
    "transformed = lb.fit_transform(X['Country'])\n",
    "ohe_df = pd.DataFrame(transformed)\n",
    "X_encoded = pd.concat([X, ohe_df], axis=1).drop(['Country'], axis=1)\n",
    "\n",
    "X_encoded"
   ]
  },
  {
   "cell_type": "code",
   "execution_count": 104,
   "metadata": {},
   "outputs": [
    {
     "data": {
      "text/html": [
       "<div>\n",
       "<style scoped>\n",
       "    .dataframe tbody tr th:only-of-type {\n",
       "        vertical-align: middle;\n",
       "    }\n",
       "\n",
       "    .dataframe tbody tr th {\n",
       "        vertical-align: top;\n",
       "    }\n",
       "\n",
       "    .dataframe thead th {\n",
       "        text-align: right;\n",
       "    }\n",
       "</style>\n",
       "<table border=\"1\" class=\"dataframe\">\n",
       "  <thead>\n",
       "    <tr style=\"text-align: right;\">\n",
       "      <th></th>\n",
       "      <th>Total Quantity</th>\n",
       "      <th>Total Price</th>\n",
       "      <th>Purchase Count</th>\n",
       "      <th>Year</th>\n",
       "      <th>Month</th>\n",
       "      <th>Day</th>\n",
       "      <th>Day of Week</th>\n",
       "      <th>0</th>\n",
       "      <th>1</th>\n",
       "      <th>2</th>\n",
       "      <th>...</th>\n",
       "      <th>27</th>\n",
       "      <th>28</th>\n",
       "      <th>29</th>\n",
       "      <th>30</th>\n",
       "      <th>31</th>\n",
       "      <th>32</th>\n",
       "      <th>33</th>\n",
       "      <th>34</th>\n",
       "      <th>35</th>\n",
       "      <th>36</th>\n",
       "    </tr>\n",
       "  </thead>\n",
       "  <tbody>\n",
       "    <tr>\n",
       "      <th>0</th>\n",
       "      <td>-0.377948</td>\n",
       "      <td>-0.036228</td>\n",
       "      <td>-0.226948</td>\n",
       "      <td>0.499477</td>\n",
       "      <td>0.765147</td>\n",
       "      <td>1.988744</td>\n",
       "      <td>-1.409191</td>\n",
       "      <td>-0.043753</td>\n",
       "      <td>-0.043753</td>\n",
       "      <td>-0.021861</td>\n",
       "      <td>...</td>\n",
       "      <td>-0.015456</td>\n",
       "      <td>-0.015456</td>\n",
       "      <td>-0.015456</td>\n",
       "      <td>-0.082051</td>\n",
       "      <td>-0.040922</td>\n",
       "      <td>-0.067517</td>\n",
       "      <td>-0.030923</td>\n",
       "      <td>-0.021861</td>\n",
       "      <td>-3.072686</td>\n",
       "      <td>-0.030923</td>\n",
       "    </tr>\n",
       "    <tr>\n",
       "      <th>1</th>\n",
       "      <td>0.099472</td>\n",
       "      <td>-0.034247</td>\n",
       "      <td>0.373487</td>\n",
       "      <td>0.499477</td>\n",
       "      <td>-0.496836</td>\n",
       "      <td>0.470925</td>\n",
       "      <td>-0.314112</td>\n",
       "      <td>-0.043753</td>\n",
       "      <td>-0.043753</td>\n",
       "      <td>-0.021861</td>\n",
       "      <td>...</td>\n",
       "      <td>-0.015456</td>\n",
       "      <td>-0.015456</td>\n",
       "      <td>-0.015456</td>\n",
       "      <td>-0.082051</td>\n",
       "      <td>-0.040922</td>\n",
       "      <td>-0.067517</td>\n",
       "      <td>-0.030923</td>\n",
       "      <td>-0.021861</td>\n",
       "      <td>0.325448</td>\n",
       "      <td>-0.030923</td>\n",
       "    </tr>\n",
       "    <tr>\n",
       "      <th>2</th>\n",
       "      <td>0.325854</td>\n",
       "      <td>-0.040573</td>\n",
       "      <td>1.617245</td>\n",
       "      <td>0.499477</td>\n",
       "      <td>0.765147</td>\n",
       "      <td>0.237415</td>\n",
       "      <td>1.876044</td>\n",
       "      <td>-0.043753</td>\n",
       "      <td>-0.043753</td>\n",
       "      <td>-0.021861</td>\n",
       "      <td>...</td>\n",
       "      <td>-0.015456</td>\n",
       "      <td>-0.015456</td>\n",
       "      <td>-0.015456</td>\n",
       "      <td>-0.082051</td>\n",
       "      <td>-0.040922</td>\n",
       "      <td>-0.067517</td>\n",
       "      <td>-0.030923</td>\n",
       "      <td>-0.021861</td>\n",
       "      <td>0.325448</td>\n",
       "      <td>-0.030923</td>\n",
       "    </tr>\n",
       "    <tr>\n",
       "      <th>3</th>\n",
       "      <td>-0.507949</td>\n",
       "      <td>-0.037577</td>\n",
       "      <td>-0.355613</td>\n",
       "      <td>0.499477</td>\n",
       "      <td>-1.506422</td>\n",
       "      <td>0.354170</td>\n",
       "      <td>-1.409191</td>\n",
       "      <td>-0.043753</td>\n",
       "      <td>-0.043753</td>\n",
       "      <td>-0.021861</td>\n",
       "      <td>...</td>\n",
       "      <td>-0.015456</td>\n",
       "      <td>-0.015456</td>\n",
       "      <td>-0.015456</td>\n",
       "      <td>-0.082051</td>\n",
       "      <td>-0.040922</td>\n",
       "      <td>-0.067517</td>\n",
       "      <td>-0.030923</td>\n",
       "      <td>-0.021861</td>\n",
       "      <td>0.325448</td>\n",
       "      <td>-0.030923</td>\n",
       "    </tr>\n",
       "    <tr>\n",
       "      <th>4</th>\n",
       "      <td>0.695686</td>\n",
       "      <td>0.122314</td>\n",
       "      <td>-0.484277</td>\n",
       "      <td>-2.002092</td>\n",
       "      <td>1.269940</td>\n",
       "      <td>-0.229607</td>\n",
       "      <td>1.876044</td>\n",
       "      <td>-0.043753</td>\n",
       "      <td>-0.043753</td>\n",
       "      <td>-0.021861</td>\n",
       "      <td>...</td>\n",
       "      <td>-0.015456</td>\n",
       "      <td>-0.015456</td>\n",
       "      <td>-0.015456</td>\n",
       "      <td>-0.082051</td>\n",
       "      <td>-0.040922</td>\n",
       "      <td>-0.067517</td>\n",
       "      <td>-0.030923</td>\n",
       "      <td>-0.021861</td>\n",
       "      <td>0.325448</td>\n",
       "      <td>-0.030923</td>\n",
       "    </tr>\n",
       "  </tbody>\n",
       "</table>\n",
       "<p>5 rows × 44 columns</p>\n",
       "</div>"
      ],
      "text/plain": [
       "   Total Quantity  Total Price  Purchase Count      Year     Month       Day  \\\n",
       "0       -0.377948    -0.036228       -0.226948  0.499477  0.765147  1.988744   \n",
       "1        0.099472    -0.034247        0.373487  0.499477 -0.496836  0.470925   \n",
       "2        0.325854    -0.040573        1.617245  0.499477  0.765147  0.237415   \n",
       "3       -0.507949    -0.037577       -0.355613  0.499477 -1.506422  0.354170   \n",
       "4        0.695686     0.122314       -0.484277 -2.002092  1.269940 -0.229607   \n",
       "\n",
       "   Day of Week         0         1         2  ...        27        28  \\\n",
       "0    -1.409191 -0.043753 -0.043753 -0.021861  ... -0.015456 -0.015456   \n",
       "1    -0.314112 -0.043753 -0.043753 -0.021861  ... -0.015456 -0.015456   \n",
       "2     1.876044 -0.043753 -0.043753 -0.021861  ... -0.015456 -0.015456   \n",
       "3    -1.409191 -0.043753 -0.043753 -0.021861  ... -0.015456 -0.015456   \n",
       "4     1.876044 -0.043753 -0.043753 -0.021861  ... -0.015456 -0.015456   \n",
       "\n",
       "         29        30        31        32        33        34        35  \\\n",
       "0 -0.015456 -0.082051 -0.040922 -0.067517 -0.030923 -0.021861 -3.072686   \n",
       "1 -0.015456 -0.082051 -0.040922 -0.067517 -0.030923 -0.021861  0.325448   \n",
       "2 -0.015456 -0.082051 -0.040922 -0.067517 -0.030923 -0.021861  0.325448   \n",
       "3 -0.015456 -0.082051 -0.040922 -0.067517 -0.030923 -0.021861  0.325448   \n",
       "4 -0.015456 -0.082051 -0.040922 -0.067517 -0.030923 -0.021861  0.325448   \n",
       "\n",
       "         36  \n",
       "0 -0.030923  \n",
       "1 -0.030923  \n",
       "2 -0.030923  \n",
       "3 -0.030923  \n",
       "4 -0.030923  \n",
       "\n",
       "[5 rows x 44 columns]"
      ]
     },
     "execution_count": 104,
     "metadata": {},
     "output_type": "execute_result"
    }
   ],
   "source": [
    "scaler = StandardScaler()\n",
    "scaler.fit(X_encoded)\n",
    "scaled_features = scaler.fit_transform(X_encoded)\n",
    "X_scaled = pd.DataFrame(scaled_features, columns=X_encoded.columns)\n",
    "X_scaled.head()"
   ]
  },
  {
   "cell_type": "code",
   "execution_count": 105,
   "metadata": {},
   "outputs": [],
   "source": [
    "X_train, X_test, y_train, y_test = train_test_split(X_scaled, y, stratify=y, test_size=0.2, random_state=101)"
   ]
  },
  {
   "cell_type": "markdown",
   "metadata": {},
   "source": [
    "Here we take a different approach for hyperparameter tuning. To find the best combination of hyperparameters for a model we can use either <font color=\"9AC0CD\"><b>GridSearchCV</b> or <b>RandomizedSearchCV</b></font>. The difference between these two is that Grid tries all the combinations but Random tries \"n_iter\" combinations randomly which makes it much faster and that's why it's the approach I chose to go with."
   ]
  },
  {
   "cell_type": "code",
   "execution_count": 106,
   "metadata": {},
   "outputs": [],
   "source": [
    "from sklearn.model_selection import GridSearchCV\n",
    "from sklearn.model_selection import RandomizedSearchCV"
   ]
  },
  {
   "cell_type": "code",
   "execution_count": 107,
   "metadata": {},
   "outputs": [
    {
     "name": "stderr",
     "output_type": "stream",
     "text": [
      "c:\\users\\mahsa\\appdata\\local\\programs\\python\\python37\\lib\\site-packages\\sklearn\\linear_model\\_sag.py:330: ConvergenceWarning: The max_iter was reached which means the coef_ did not converge\n",
      "  \"the coef_ did not converge\", ConvergenceWarning)\n",
      "c:\\users\\mahsa\\appdata\\local\\programs\\python\\python37\\lib\\site-packages\\sklearn\\linear_model\\_sag.py:330: ConvergenceWarning: The max_iter was reached which means the coef_ did not converge\n",
      "  \"the coef_ did not converge\", ConvergenceWarning)\n",
      "c:\\users\\mahsa\\appdata\\local\\programs\\python\\python37\\lib\\site-packages\\sklearn\\linear_model\\_sag.py:330: ConvergenceWarning: The max_iter was reached which means the coef_ did not converge\n",
      "  \"the coef_ did not converge\", ConvergenceWarning)\n",
      "c:\\users\\mahsa\\appdata\\local\\programs\\python\\python37\\lib\\site-packages\\sklearn\\linear_model\\_sag.py:330: ConvergenceWarning: The max_iter was reached which means the coef_ did not converge\n",
      "  \"the coef_ did not converge\", ConvergenceWarning)\n",
      "c:\\users\\mahsa\\appdata\\local\\programs\\python\\python37\\lib\\site-packages\\sklearn\\linear_model\\_sag.py:330: ConvergenceWarning: The max_iter was reached which means the coef_ did not converge\n",
      "  \"the coef_ did not converge\", ConvergenceWarning)\n",
      "c:\\users\\mahsa\\appdata\\local\\programs\\python\\python37\\lib\\site-packages\\sklearn\\linear_model\\_sag.py:330: ConvergenceWarning: The max_iter was reached which means the coef_ did not converge\n",
      "  \"the coef_ did not converge\", ConvergenceWarning)\n",
      "c:\\users\\mahsa\\appdata\\local\\programs\\python\\python37\\lib\\site-packages\\sklearn\\linear_model\\_sag.py:330: ConvergenceWarning: The max_iter was reached which means the coef_ did not converge\n",
      "  \"the coef_ did not converge\", ConvergenceWarning)\n",
      "c:\\users\\mahsa\\appdata\\local\\programs\\python\\python37\\lib\\site-packages\\sklearn\\linear_model\\_sag.py:330: ConvergenceWarning: The max_iter was reached which means the coef_ did not converge\n",
      "  \"the coef_ did not converge\", ConvergenceWarning)\n",
      "c:\\users\\mahsa\\appdata\\local\\programs\\python\\python37\\lib\\site-packages\\sklearn\\linear_model\\_sag.py:330: ConvergenceWarning: The max_iter was reached which means the coef_ did not converge\n",
      "  \"the coef_ did not converge\", ConvergenceWarning)\n",
      "c:\\users\\mahsa\\appdata\\local\\programs\\python\\python37\\lib\\site-packages\\sklearn\\linear_model\\_sag.py:330: ConvergenceWarning: The max_iter was reached which means the coef_ did not converge\n",
      "  \"the coef_ did not converge\", ConvergenceWarning)\n",
      "c:\\users\\mahsa\\appdata\\local\\programs\\python\\python37\\lib\\site-packages\\sklearn\\linear_model\\_sag.py:330: ConvergenceWarning: The max_iter was reached which means the coef_ did not converge\n",
      "  \"the coef_ did not converge\", ConvergenceWarning)\n",
      "c:\\users\\mahsa\\appdata\\local\\programs\\python\\python37\\lib\\site-packages\\sklearn\\linear_model\\_sag.py:330: ConvergenceWarning: The max_iter was reached which means the coef_ did not converge\n",
      "  \"the coef_ did not converge\", ConvergenceWarning)\n",
      "c:\\users\\mahsa\\appdata\\local\\programs\\python\\python37\\lib\\site-packages\\sklearn\\linear_model\\_sag.py:330: ConvergenceWarning: The max_iter was reached which means the coef_ did not converge\n",
      "  \"the coef_ did not converge\", ConvergenceWarning)\n",
      "c:\\users\\mahsa\\appdata\\local\\programs\\python\\python37\\lib\\site-packages\\sklearn\\linear_model\\_sag.py:330: ConvergenceWarning: The max_iter was reached which means the coef_ did not converge\n",
      "  \"the coef_ did not converge\", ConvergenceWarning)\n",
      "c:\\users\\mahsa\\appdata\\local\\programs\\python\\python37\\lib\\site-packages\\sklearn\\linear_model\\_sag.py:330: ConvergenceWarning: The max_iter was reached which means the coef_ did not converge\n",
      "  \"the coef_ did not converge\", ConvergenceWarning)\n",
      "c:\\users\\mahsa\\appdata\\local\\programs\\python\\python37\\lib\\site-packages\\sklearn\\model_selection\\_validation.py:536: FitFailedWarning: Estimator fit failed. The score on this train-test partition for these parameters will be set to nan. Details: \n",
      "ValueError: Solver sag supports only 'l2' or 'none' penalties, got l1 penalty.\n",
      "\n",
      "  FitFailedWarning)\n",
      "c:\\users\\mahsa\\appdata\\local\\programs\\python\\python37\\lib\\site-packages\\sklearn\\linear_model\\_sag.py:330: ConvergenceWarning: The max_iter was reached which means the coef_ did not converge\n",
      "  \"the coef_ did not converge\", ConvergenceWarning)\n",
      "c:\\users\\mahsa\\appdata\\local\\programs\\python\\python37\\lib\\site-packages\\sklearn\\linear_model\\_sag.py:330: ConvergenceWarning: The max_iter was reached which means the coef_ did not converge\n",
      "  \"the coef_ did not converge\", ConvergenceWarning)\n",
      "c:\\users\\mahsa\\appdata\\local\\programs\\python\\python37\\lib\\site-packages\\sklearn\\linear_model\\_sag.py:330: ConvergenceWarning: The max_iter was reached which means the coef_ did not converge\n",
      "  \"the coef_ did not converge\", ConvergenceWarning)\n",
      "c:\\users\\mahsa\\appdata\\local\\programs\\python\\python37\\lib\\site-packages\\sklearn\\linear_model\\_sag.py:330: ConvergenceWarning: The max_iter was reached which means the coef_ did not converge\n",
      "  \"the coef_ did not converge\", ConvergenceWarning)\n",
      "c:\\users\\mahsa\\appdata\\local\\programs\\python\\python37\\lib\\site-packages\\sklearn\\linear_model\\_sag.py:330: ConvergenceWarning: The max_iter was reached which means the coef_ did not converge\n",
      "  \"the coef_ did not converge\", ConvergenceWarning)\n",
      "c:\\users\\mahsa\\appdata\\local\\programs\\python\\python37\\lib\\site-packages\\sklearn\\linear_model\\_sag.py:330: ConvergenceWarning: The max_iter was reached which means the coef_ did not converge\n",
      "  \"the coef_ did not converge\", ConvergenceWarning)\n",
      "c:\\users\\mahsa\\appdata\\local\\programs\\python\\python37\\lib\\site-packages\\sklearn\\linear_model\\_sag.py:330: ConvergenceWarning: The max_iter was reached which means the coef_ did not converge\n",
      "  \"the coef_ did not converge\", ConvergenceWarning)\n",
      "c:\\users\\mahsa\\appdata\\local\\programs\\python\\python37\\lib\\site-packages\\sklearn\\linear_model\\_sag.py:330: ConvergenceWarning: The max_iter was reached which means the coef_ did not converge\n",
      "  \"the coef_ did not converge\", ConvergenceWarning)\n",
      "c:\\users\\mahsa\\appdata\\local\\programs\\python\\python37\\lib\\site-packages\\sklearn\\linear_model\\_sag.py:330: ConvergenceWarning: The max_iter was reached which means the coef_ did not converge\n",
      "  \"the coef_ did not converge\", ConvergenceWarning)\n",
      "c:\\users\\mahsa\\appdata\\local\\programs\\python\\python37\\lib\\site-packages\\sklearn\\linear_model\\_sag.py:330: ConvergenceWarning: The max_iter was reached which means the coef_ did not converge\n",
      "  \"the coef_ did not converge\", ConvergenceWarning)\n",
      "c:\\users\\mahsa\\appdata\\local\\programs\\python\\python37\\lib\\site-packages\\sklearn\\model_selection\\_validation.py:536: FitFailedWarning: Estimator fit failed. The score on this train-test partition for these parameters will be set to nan. Details: \n",
      "ValueError: Solver sag supports only 'l2' or 'none' penalties, got l1 penalty.\n",
      "\n",
      "  FitFailedWarning)\n",
      "c:\\users\\mahsa\\appdata\\local\\programs\\python\\python37\\lib\\site-packages\\sklearn\\linear_model\\_sag.py:330: ConvergenceWarning: The max_iter was reached which means the coef_ did not converge\n",
      "  \"the coef_ did not converge\", ConvergenceWarning)\n",
      "c:\\users\\mahsa\\appdata\\local\\programs\\python\\python37\\lib\\site-packages\\sklearn\\linear_model\\_sag.py:330: ConvergenceWarning: The max_iter was reached which means the coef_ did not converge\n",
      "  \"the coef_ did not converge\", ConvergenceWarning)\n",
      "c:\\users\\mahsa\\appdata\\local\\programs\\python\\python37\\lib\\site-packages\\sklearn\\linear_model\\_sag.py:330: ConvergenceWarning: The max_iter was reached which means the coef_ did not converge\n",
      "  \"the coef_ did not converge\", ConvergenceWarning)\n",
      "c:\\users\\mahsa\\appdata\\local\\programs\\python\\python37\\lib\\site-packages\\sklearn\\linear_model\\_sag.py:330: ConvergenceWarning: The max_iter was reached which means the coef_ did not converge\n",
      "  \"the coef_ did not converge\", ConvergenceWarning)\n",
      "c:\\users\\mahsa\\appdata\\local\\programs\\python\\python37\\lib\\site-packages\\sklearn\\linear_model\\_sag.py:330: ConvergenceWarning: The max_iter was reached which means the coef_ did not converge\n",
      "  \"the coef_ did not converge\", ConvergenceWarning)\n",
      "c:\\users\\mahsa\\appdata\\local\\programs\\python\\python37\\lib\\site-packages\\sklearn\\linear_model\\_sag.py:330: ConvergenceWarning: The max_iter was reached which means the coef_ did not converge\n",
      "  \"the coef_ did not converge\", ConvergenceWarning)\n"
     ]
    },
    {
     "name": "stderr",
     "output_type": "stream",
     "text": [
      "c:\\users\\mahsa\\appdata\\local\\programs\\python\\python37\\lib\\site-packages\\sklearn\\linear_model\\_sag.py:330: ConvergenceWarning: The max_iter was reached which means the coef_ did not converge\n",
      "  \"the coef_ did not converge\", ConvergenceWarning)\n",
      "c:\\users\\mahsa\\appdata\\local\\programs\\python\\python37\\lib\\site-packages\\sklearn\\linear_model\\_sag.py:330: ConvergenceWarning: The max_iter was reached which means the coef_ did not converge\n",
      "  \"the coef_ did not converge\", ConvergenceWarning)\n",
      "c:\\users\\mahsa\\appdata\\local\\programs\\python\\python37\\lib\\site-packages\\sklearn\\linear_model\\_sag.py:330: ConvergenceWarning: The max_iter was reached which means the coef_ did not converge\n",
      "  \"the coef_ did not converge\", ConvergenceWarning)\n",
      "c:\\users\\mahsa\\appdata\\local\\programs\\python\\python37\\lib\\site-packages\\sklearn\\linear_model\\_sag.py:330: ConvergenceWarning: The max_iter was reached which means the coef_ did not converge\n",
      "  \"the coef_ did not converge\", ConvergenceWarning)\n",
      "c:\\users\\mahsa\\appdata\\local\\programs\\python\\python37\\lib\\site-packages\\sklearn\\linear_model\\_sag.py:330: ConvergenceWarning: The max_iter was reached which means the coef_ did not converge\n",
      "  \"the coef_ did not converge\", ConvergenceWarning)\n",
      "c:\\users\\mahsa\\appdata\\local\\programs\\python\\python37\\lib\\site-packages\\sklearn\\linear_model\\_sag.py:330: ConvergenceWarning: The max_iter was reached which means the coef_ did not converge\n",
      "  \"the coef_ did not converge\", ConvergenceWarning)\n",
      "c:\\users\\mahsa\\appdata\\local\\programs\\python\\python37\\lib\\site-packages\\sklearn\\linear_model\\_sag.py:330: ConvergenceWarning: The max_iter was reached which means the coef_ did not converge\n",
      "  \"the coef_ did not converge\", ConvergenceWarning)\n",
      "c:\\users\\mahsa\\appdata\\local\\programs\\python\\python37\\lib\\site-packages\\sklearn\\linear_model\\_sag.py:330: ConvergenceWarning: The max_iter was reached which means the coef_ did not converge\n",
      "  \"the coef_ did not converge\", ConvergenceWarning)\n",
      "c:\\users\\mahsa\\appdata\\local\\programs\\python\\python37\\lib\\site-packages\\sklearn\\linear_model\\_sag.py:330: ConvergenceWarning: The max_iter was reached which means the coef_ did not converge\n",
      "  \"the coef_ did not converge\", ConvergenceWarning)\n",
      "c:\\users\\mahsa\\appdata\\local\\programs\\python\\python37\\lib\\site-packages\\sklearn\\linear_model\\_sag.py:330: ConvergenceWarning: The max_iter was reached which means the coef_ did not converge\n",
      "  \"the coef_ did not converge\", ConvergenceWarning)\n",
      "c:\\users\\mahsa\\appdata\\local\\programs\\python\\python37\\lib\\site-packages\\sklearn\\linear_model\\_sag.py:330: ConvergenceWarning: The max_iter was reached which means the coef_ did not converge\n",
      "  \"the coef_ did not converge\", ConvergenceWarning)\n",
      "c:\\users\\mahsa\\appdata\\local\\programs\\python\\python37\\lib\\site-packages\\sklearn\\linear_model\\_sag.py:330: ConvergenceWarning: The max_iter was reached which means the coef_ did not converge\n",
      "  \"the coef_ did not converge\", ConvergenceWarning)\n",
      "c:\\users\\mahsa\\appdata\\local\\programs\\python\\python37\\lib\\site-packages\\sklearn\\linear_model\\_sag.py:330: ConvergenceWarning: The max_iter was reached which means the coef_ did not converge\n",
      "  \"the coef_ did not converge\", ConvergenceWarning)\n"
     ]
    },
    {
     "name": "stdout",
     "output_type": "stream",
     "text": [
      "Best Penalty: l2\n",
      "Best C: 2.7825594022071245\n",
      "Best Solver: lbfgs\n"
     ]
    },
    {
     "name": "stderr",
     "output_type": "stream",
     "text": [
      "c:\\users\\mahsa\\appdata\\local\\programs\\python\\python37\\lib\\site-packages\\sklearn\\linear_model\\_sag.py:330: ConvergenceWarning: The max_iter was reached which means the coef_ did not converge\n",
      "  \"the coef_ did not converge\", ConvergenceWarning)\n"
     ]
    }
   ],
   "source": [
    "lr = LogisticRegression(random_state=101)\n",
    "# Create regularization penalty space\n",
    "penalty = ['l1', 'l2']\n",
    "\n",
    "# Create regularization hyperparameter space\n",
    "C = np.logspace(0, 4, 10)\n",
    "\n",
    "solver = ['newton-cg', 'lbfgs', 'liblinear', 'sag', 'saga']\n",
    "\n",
    "# Create hyperparameter options\n",
    "hyperparameters = dict(C=C, penalty=penalty, solver=solver)\n",
    "\n",
    "# Create grid search using 5-fold cross validation\n",
    "#clf = GridSearchCV(lr, hyperparameters, cv=5)\n",
    "clf = RandomizedSearchCV(lr, hyperparameters, cv=5, n_iter=20) \n",
    "# Fit grid search\n",
    "best_model = clf.fit(X_train, y_train)\n",
    "\n",
    "# View best hyperparameters\n",
    "print('Best Penalty:', best_model.best_estimator_.get_params()['penalty'])\n",
    "print('Best C:', best_model.best_estimator_.get_params()['C'])\n",
    "print('Best Solver:', best_model.best_estimator_.get_params()['solver'])\n",
    "    "
   ]
  },
  {
   "cell_type": "code",
   "execution_count": 108,
   "metadata": {},
   "outputs": [
    {
     "name": "stdout",
     "output_type": "stream",
     "text": [
      "[[131 138]\n",
      " [ 78 491]]\n",
      "\n",
      "Precision:  0.7312307965270569\n",
      "Recall:  0.7422434367541766\n",
      "\n",
      "Train Accuracy:  0.7396237682890415\n",
      "Test Accuracy:  0.7422434367541766\n"
     ]
    }
   ],
   "source": [
    "# Predict target vector\n",
    "y_pred_test = best_model.predict(X_test)\n",
    "y_pred_train = best_model.predict(X_train)\n",
    "\n",
    "print(confusion_matrix(y_test, y_pred_test))\n",
    "print()\n",
    "print('Precision: ', precision_score(y_true=y_test, y_pred=y_pred_test, average='weighted'))\n",
    "print('Recall: ', recall_score(y_true=y_test, y_pred=y_pred_test, average='weighted'))\n",
    "print()\n",
    "print('Train Accuracy: ', accuracy_score(y_true=y_train, y_pred=y_pred_train))\n",
    "print('Test Accuracy: ', accuracy_score(y_true=y_test, y_pred=y_pred_test))"
   ]
  },
  {
   "cell_type": "markdown",
   "metadata": {},
   "source": [
    "Same thing:D"
   ]
  },
  {
   "cell_type": "code",
   "execution_count": 205,
   "metadata": {},
   "outputs": [],
   "source": [
    "# split dataset in features and target variable\n",
    "X = clean_data.drop(columns=['Is Back'])  # Features\n",
    "y = clean_data['Is Back']  # Target variable"
   ]
  },
  {
   "cell_type": "code",
   "execution_count": 206,
   "metadata": {},
   "outputs": [],
   "source": [
    "X['Country'] = le.fit_transform(X['Country'])"
   ]
  },
  {
   "cell_type": "code",
   "execution_count": 207,
   "metadata": {},
   "outputs": [
    {
     "data": {
      "text/html": [
       "<div>\n",
       "<style scoped>\n",
       "    .dataframe tbody tr th:only-of-type {\n",
       "        vertical-align: middle;\n",
       "    }\n",
       "\n",
       "    .dataframe tbody tr th {\n",
       "        vertical-align: top;\n",
       "    }\n",
       "\n",
       "    .dataframe thead th {\n",
       "        text-align: right;\n",
       "    }\n",
       "</style>\n",
       "<table border=\"1\" class=\"dataframe\">\n",
       "  <thead>\n",
       "    <tr style=\"text-align: right;\">\n",
       "      <th></th>\n",
       "      <th>Total Quantity</th>\n",
       "      <th>Total Price</th>\n",
       "      <th>Country</th>\n",
       "      <th>Purchase Count</th>\n",
       "      <th>Year</th>\n",
       "      <th>Month</th>\n",
       "      <th>Day</th>\n",
       "      <th>Day of Week</th>\n",
       "    </tr>\n",
       "  </thead>\n",
       "  <tbody>\n",
       "    <tr>\n",
       "      <th>0</th>\n",
       "      <td>-0.524359</td>\n",
       "      <td>-0.044660</td>\n",
       "      <td>0.292425</td>\n",
       "      <td>-0.973192</td>\n",
       "      <td>-1.898812</td>\n",
       "      <td>1.238637</td>\n",
       "      <td>-1.392165</td>\n",
       "      <td>0.245448</td>\n",
       "    </tr>\n",
       "    <tr>\n",
       "      <th>1</th>\n",
       "      <td>-0.338777</td>\n",
       "      <td>-0.032135</td>\n",
       "      <td>-2.462283</td>\n",
       "      <td>-0.202732</td>\n",
       "      <td>0.526645</td>\n",
       "      <td>0.739386</td>\n",
       "      <td>2.011013</td>\n",
       "      <td>-1.407448</td>\n",
       "    </tr>\n",
       "    <tr>\n",
       "      <th>2</th>\n",
       "      <td>0.120864</td>\n",
       "      <td>-0.030117</td>\n",
       "      <td>0.292425</td>\n",
       "      <td>0.396514</td>\n",
       "      <td>0.526645</td>\n",
       "      <td>-0.508742</td>\n",
       "      <td>0.485450</td>\n",
       "      <td>-0.305517</td>\n",
       "    </tr>\n",
       "    <tr>\n",
       "      <th>3</th>\n",
       "      <td>0.338815</td>\n",
       "      <td>-0.036562</td>\n",
       "      <td>0.292425</td>\n",
       "      <td>1.637809</td>\n",
       "      <td>0.526645</td>\n",
       "      <td>0.739386</td>\n",
       "      <td>0.250748</td>\n",
       "      <td>1.898344</td>\n",
       "    </tr>\n",
       "    <tr>\n",
       "      <th>4</th>\n",
       "      <td>-0.463937</td>\n",
       "      <td>-0.033509</td>\n",
       "      <td>0.292425</td>\n",
       "      <td>-0.331142</td>\n",
       "      <td>0.526645</td>\n",
       "      <td>-1.507245</td>\n",
       "      <td>0.368099</td>\n",
       "      <td>-1.407448</td>\n",
       "    </tr>\n",
       "  </tbody>\n",
       "</table>\n",
       "</div>"
      ],
      "text/plain": [
       "   Total Quantity  Total Price   Country  Purchase Count      Year     Month  \\\n",
       "0       -0.524359    -0.044660  0.292425       -0.973192 -1.898812  1.238637   \n",
       "1       -0.338777    -0.032135 -2.462283       -0.202732  0.526645  0.739386   \n",
       "2        0.120864    -0.030117  0.292425        0.396514  0.526645 -0.508742   \n",
       "3        0.338815    -0.036562  0.292425        1.637809  0.526645  0.739386   \n",
       "4       -0.463937    -0.033509  0.292425       -0.331142  0.526645 -1.507245   \n",
       "\n",
       "        Day  Day of Week  \n",
       "0 -1.392165     0.245448  \n",
       "1  2.011013    -1.407448  \n",
       "2  0.485450    -0.305517  \n",
       "3  0.250748     1.898344  \n",
       "4  0.368099    -1.407448  "
      ]
     },
     "execution_count": 207,
     "metadata": {},
     "output_type": "execute_result"
    }
   ],
   "source": [
    "scaler = StandardScaler()\n",
    "scaled_features = scaler.fit_transform(X)\n",
    "data_feat = pd.DataFrame(scaled_features, columns=X.columns)\n",
    "#print(data_feat.head())\n",
    "X_scaled = data_feat\n",
    "X_scaled.head()"
   ]
  },
  {
   "cell_type": "code",
   "execution_count": 208,
   "metadata": {},
   "outputs": [],
   "source": [
    "X_train, X_test, y_train, y_test = train_test_split(X_scaled, y, stratify=y, test_size=0.2, random_state=101)"
   ]
  },
  {
   "cell_type": "markdown",
   "metadata": {},
   "source": [
    "### <font color=\"9AC0CD\"><b> Part 2: Ensemble Methods </b></font><br>"
   ]
  },
  {
   "cell_type": "markdown",
   "metadata": {},
   "source": [
    "#### <font color=\"D7BDE2\"><b> 2.1: Bagging </b></font>\n",
    "<font color=\"73C6B6\"><b>What are bagging and bootstrapping anyway? Why do they help us? </b></font><br>\n",
    "Bagging, usually takes in weak learners, learns them independently from each other in parallel and combines them following some kind of deterministic averaging process very roughly, we can say that bagging will mainly focus at getting an ensemble model with <font color=\"9AC0CD\"><b>less variance</b> </font>than its components whereas9AC0CD <font color=\"9AC0CD\"><b>boosting and stacking</b></font> will mainly try to produce strong models <font color=\"9AC0CD\"><b>less biased</b></font> than their components (even if variance can also be reduced). In parallel methods we fit the learners independently from each others and, so, it is possible to train them concurrently. The most famous such approach is “bagging” (standing for “bootstrap aggregating”) that aims at producing an ensemble model that is more robust than the individual models composing it. [3] While an individual tree is overfit to the training data and is likely to have large error, bagging (Bootstrap Aggregating) uses the insight that a suitably large number of uncorrelated errors average out to zero to solve this problem. Bagging chooses multiple random samples of observations from the training data, with replacement, constructing a tree from each one. Since each tree learns from different data, they are fairly uncorrelated from one another. [4]"
   ]
  },
  {
   "cell_type": "code",
   "execution_count": 113,
   "metadata": {},
   "outputs": [],
   "source": [
    "from sklearn.ensemble import BaggingClassifier"
   ]
  },
  {
   "cell_type": "code",
   "execution_count": 114,
   "metadata": {},
   "outputs": [
    {
     "name": "stdout",
     "output_type": "stream",
     "text": [
      "Train Accuracy:  0.7396237682890415\n",
      "Test Accuracy:  0.747016706443914\n"
     ]
    }
   ],
   "source": [
    "bc_dt = BaggingClassifier(base_estimator=DecisionTreeClassifier(max_depth=3), n_estimators=45, random_state=101).fit(X_train, y_train)\n",
    "y_pred_test = bc_dt.predict(X_test)\n",
    "y_pred_train = bc_dt.predict(X_train)\n",
    "\n",
    "print('Train Accuracy: ', accuracy_score(y_true=y_train, y_pred=y_pred_train))\n",
    "print('Test Accuracy: ', accuracy_score(y_true=y_test, y_pred=y_pred_test))"
   ]
  },
  {
   "cell_type": "code",
   "execution_count": 115,
   "metadata": {},
   "outputs": [
    {
     "name": "stdout",
     "output_type": "stream",
     "text": [
      "Train Accuracy:  0.7396237682890415\n",
      "Test Accuracy:  0.747016706443914\n"
     ]
    }
   ],
   "source": [
    "bc_knn = BaggingClassifier(base_estimator=KNeighborsClassifier(n_neighbors=43), n_estimators=50, random_state=101).fit(X_train, y_train)\n",
    "y_pred_test = bc_knn.predict(X_test)\n",
    "y_pred_train = bc_knn.predict(X_train)\n",
    "\n",
    "print('Train Accuracy: ', accuracy_score(y_true=y_train, y_pred=y_pred_train))\n",
    "print('Test Accuracy: ', accuracy_score(y_true=y_test, y_pred=y_pred_test))"
   ]
  },
  {
   "cell_type": "markdown",
   "metadata": {},
   "source": [
    "#### <font color=\"D7BDE2\"><b> 2.2: Random Forests </b></font>\n",
    "<font color=\"73C6B6\"><b>What is Random Forests? Why does it help? </b></font><br> \n",
    "Random Forest employs a number of techniques to <font color=\"9AC0CD\"><b>reduce variance</b></font> in predictions while maintaining (to some extent) the low variance that was characteristic of the lone Decision Tree. It does this primarily by averaging together a number of very weakly correlated (if not completely uncorrelated) trees. Hyperparameters like <font color=\"9AC0CD\"><b>max_features</b> and <b>min_samples_leaf</b></font> are among the techniques useful in reducing this correlation between trees, but they often come at the cost of some <font color=\"9AC0CD\"><b>increase in bias</b></font>, since each tree now has less data to work with. [4]"
   ]
  },
  {
   "cell_type": "code",
   "execution_count": 211,
   "metadata": {},
   "outputs": [],
   "source": [
    "from sklearn.ensemble import RandomForestClassifier"
   ]
  },
  {
   "cell_type": "code",
   "execution_count": 212,
   "metadata": {},
   "outputs": [
    {
     "name": "stdout",
     "output_type": "stream",
     "text": [
      "Train Accuracy:  0.7494272623138603\n",
      "Test Accuracy:  0.7196796338672768\n"
     ]
    }
   ],
   "source": [
    "rfc = RandomForestClassifier(n_estimators=30, random_state=101, max_depth=5)\n",
    "rfc.fit(X_train, y_train)\n",
    "rfc_pred_test = rfc.predict(X_test)\n",
    "rfc_pred_train = rfc.predict(X_train)\n",
    "\n",
    "print('Train Accuracy: ', accuracy_score(y_true=y_train, y_pred=rfc_pred_train))\n",
    "print('Test Accuracy: ', accuracy_score(y_true=y_test, y_pred=rfc_pred_test))"
   ]
  },
  {
   "cell_type": "markdown",
   "metadata": {},
   "source": [
    "Just like we did before with Logistic Regression, We RandomSearchCV to tune RandomForests' hyperparameters. Then we build the model based on the results of hyperparameter tuning."
   ]
  },
  {
   "cell_type": "code",
   "execution_count": 213,
   "metadata": {},
   "outputs": [
    {
     "name": "stdout",
     "output_type": "stream",
     "text": [
      "Best max_depth: 14\n",
      "Best  min_samples_leaf: 6\n",
      "Best max_features: sqrt\n",
      "Best n_estimators: 39\n",
      "Best max_leaf_nodes: 27\n"
     ]
    }
   ],
   "source": [
    "rfc = RandomForestClassifier(random_state=101)\n",
    "\n",
    "n_estimators=range(10,80)\n",
    "max_depth = range(1,20)\n",
    "min_samples_leaf = range(1,10)\n",
    "max_features = ['auto', 'sqrt', 'log2']\n",
    "max_leaf_nodes = range(2,30)\n",
    "# Create hyperparameter options\n",
    "hyperparameters = dict(max_depth=max_depth, min_samples_leaf=min_samples_leaf, max_features=max_features, n_estimators=n_estimators, max_leaf_nodes=max_leaf_nodes)\n",
    "\n",
    "# Create grid search using 5-fold cross validation\n",
    "#clf = GridSearchCV(lr, hyperparameters, cv=5)\n",
    "clf = RandomizedSearchCV(rfc, hyperparameters, cv=5, n_iter=20) \n",
    "# Fit grid search\n",
    "best_model = clf.fit(X_train, y_train)\n",
    "\n",
    "# View best hyperparameters\n",
    "print('Best max_depth:', best_model.best_estimator_.get_params()['max_depth'])\n",
    "print('Best  min_samples_leaf:', best_model.best_estimator_.get_params()['min_samples_leaf'])\n",
    "print('Best max_features:', best_model.best_estimator_.get_params()['max_features'])\n",
    "print('Best n_estimators:', best_model.best_estimator_.get_params()['n_estimators'])\n",
    "print('Best max_leaf_nodes:', best_model.best_estimator_.get_params()['max_leaf_nodes'])\n"
   ]
  },
  {
   "cell_type": "code",
   "execution_count": 214,
   "metadata": {},
   "outputs": [
    {
     "name": "stdout",
     "output_type": "stream",
     "text": [
      "Train Accuracy:  0.7557273768613975\n",
      "Test Accuracy:  0.7254004576659039\n"
     ]
    }
   ],
   "source": [
    "rfc = best_model\n",
    "rfc.fit(X_train, y_train)\n",
    "rfc_pred_test = rfc.predict(X_test)\n",
    "rfc_pred_train = rfc.predict(X_train)\n",
    "\n",
    "print('Train Accuracy: ', accuracy_score(y_true=y_train, y_pred=rfc_pred_train))\n",
    "print('Test Accuracy: ', accuracy_score(y_true=y_test, y_pred=rfc_pred_test))"
   ]
  },
  {
   "cell_type": "markdown",
   "metadata": {},
   "source": [
    "To get a visual perspective of what happens to overfits when we increase o reduce the hyperparameters, I've plotted, max_depth, n_estimators and max_leaf_nodes against accuracy of both train and test data."
   ]
  },
  {
   "cell_type": "code",
   "execution_count": 128,
   "metadata": {},
   "outputs": [
    {
     "data": {
      "image/png": "[encoded data removed]",
      "text/plain": [
       "<Figure size 432x288 with 1 Axes>"
      ]
     },
     "metadata": {
      "needs_background": "light"
     },
     "output_type": "display_data"
    }
   ],
   "source": [
    "accuracy_test = []\n",
    "accuracy_train = []\n",
    "\n",
    "depths = range(1,20)\n",
    "\n",
    "for depth in max_depth:\n",
    "\n",
    "    rfc = RandomForestClassifier(max_depth=depth, random_state=101)\n",
    "    accuracy_train, accuracy_test = make_predictions(rfc, accuracy_train, accuracy_test)\n",
    "\n",
    "plot_param_vs_acc(depths, accuracy_train, accuracy_test, \"max_depth\")"
   ]
  },
  {
   "cell_type": "markdown",
   "metadata": {},
   "source": [
    "as it is pretty clear when max_depth is higher than 5 it results in very high overfitting."
   ]
  },
  {
   "cell_type": "code",
   "execution_count": 200,
   "metadata": {},
   "outputs": [
    {
     "data": {
      "image/png": "[encoded data removed]",
      "text/plain": [
       "<Figure size 432x288 with 1 Axes>"
      ]
     },
     "metadata": {
      "needs_background": "light"
     },
     "output_type": "display_data"
    }
   ],
   "source": [
    "accuracy_test = []\n",
    "accuracy_train = []\n",
    "\n",
    "n_estimators = range(2,50)\n",
    "\n",
    "for n in n_estimators:\n",
    "\n",
    "    rfc = RandomForestClassifier(n_estimators=n, random_state=101)\n",
    "    accuracy_train, accuracy_test = make_predictions(rfc, accuracy_train, accuracy_test)\n",
    "\n",
    "plot_param_vs_acc(n_estimators, accuracy_train, accuracy_test, \"n_estimators\")"
   ]
  },
  {
   "cell_type": "markdown",
   "metadata": {},
   "source": [
    "n_estimators always has a huge overfit but it's still after about 20."
   ]
  },
  {
   "cell_type": "code",
   "execution_count": 215,
   "metadata": {},
   "outputs": [
    {
     "data": {
      "image/png": "[encoded data removed]",
      "text/plain": [
       "<Figure size 432x288 with 1 Axes>"
      ]
     },
     "metadata": {
      "needs_background": "light"
     },
     "output_type": "display_data"
    }
   ],
   "source": [
    "accuracy_test = []\n",
    "accuracy_train = []\n",
    "\n",
    "max_leaf_nodes=range(2,50)\n",
    "\n",
    "for n in max_leaf_nodes:\n",
    "\n",
    "    rfc = RandomForestClassifier(max_leaf_nodes=n, random_state=101)\n",
    "    \n",
    "    accuracy_train, accuracy_test = make_predictions(rfc, accuracy_train, accuracy_test)\n",
    "\n",
    "plot_param_vs_acc(max_leaf_nodes, accuracy_train, accuracy_test, \"max_leaf_nodes\")"
   ]
  },
  {
   "cell_type": "markdown",
   "metadata": {},
   "source": [
    "#### <font color=\"D7BDE2\"><b> 2.3: Voting </b></font> \n",
    "What is the difference between Hard and Soft Voting? <br>\n",
    "\n",
    "In Hard Voting: Classifier 1 predicts class A, Classifier 2 predicts class B, Classifier 3 predicts class C, ... <br>\n",
    "\n",
    "But in Soft voting: Classifier 1 predicts class A with probability A%, Classifier 2 predicts class B with probability B%, Classifier 3 predicts class C with probability C%, ... <br>\n",
    "\n",
    "Note that they can predict repetitive classes and the sum of percentages is not necessarily 100%."
   ]
  },
  {
   "cell_type": "code",
   "execution_count": 122,
   "metadata": {},
   "outputs": [],
   "source": [
    "from sklearn.ensemble import VotingClassifier"
   ]
  },
  {
   "cell_type": "code",
   "execution_count": 123,
   "metadata": {},
   "outputs": [
    {
     "name": "stdout",
     "output_type": "stream",
     "text": [
      "Train Accuracy:  0.7411167512690355\n",
      "Test Accuracy:  0.7577565632458234\n"
     ]
    }
   ],
   "source": [
    "dt = DecisionTreeClassifier(max_depth=3)\n",
    "knn = KNeighborsClassifier(n_neighbors=43)\n",
    "lr = LogisticRegression()\n",
    "vclf = VotingClassifier(estimators=[('decision tree', dt), ('k neighbors', knn), ('logistic regression', lr)])\n",
    "vclf.fit(X_train, y_train)\n",
    "\n",
    "y_pred_train = vclf.predict(X_train)\n",
    "y_pred_test = vclf.predict(X_test)\n",
    "\n",
    "print('Train Accuracy: ', accuracy_score(y_true=y_train, y_pred=y_pred_train))\n",
    "print('Test Accuracy: ', accuracy_score(y_true=y_test, y_pred=y_pred_test))"
   ]
  },
  {
   "cell_type": "markdown",
   "metadata": {},
   "source": [
    "### <font color=\"9AC0CD\"><b> Conclusion</b></font>\n",
    "We observed that Random Forests, Bagging, Voting are not really increasing our accuracy percentages, but why? All these three ensemble methods do some kind of voting between the lone classifiers we saw earlier in Part1 which had very similar outcomes. Ensemble methods sometimes cause the bias to increase like it was explained and seen in 2.2 Random Forests but the overfitting is always supposed to decrease."
   ]
  },
  {
   "cell_type": "markdown",
   "metadata": {},
   "source": [
    "### <font color=\"9AC0CD\"><b> Refrences </b></font>\n",
    "[1] https://scikit-learn.org/stable/auto_examples/tree/plot_cost_complexity_pruning.html <br>\n",
    "[2] https://medium.com/analytics-vidhya/why-is-scaling-required-in-knn-and-k-means-8129e4d88ed7 <br>\n",
    "[3] https://towardsdatascience.com/ensemble-methods-bagging-boosting-and-stacking-c9214a10a205 <br>\n",
    "[4] https://towardsdatascience.com/random-forests-and-the-bias-variance-tradeoff-3b77fee339b4 <br>\n",
    "[5] https://towardsdatascience.com/hyperparameter-tuning-explained-d0ebb2ba1d35 <br>\n",
    "[6] https://www.quora.com/Whats-the-difference-between-random-oversampling-and-oversampling-using-SMOTE-on-an-imbalanced-dataset-Is-the-later-always-better-then-the-first <br>\n",
    "[7] https://scikit-learn.org/stable/modules/generated/sklearn.linear_model.LogisticRegression.html <br>\n"
   ]
  }
 ],
 "metadata": {
  "kernelspec": {
   "display_name": "Python 3",
   "language": "python",
   "name": "python3"
  },
  "language_info": {
   "codemirror_mode": {
    "name": "ipython",
    "version": 3
   },
   "file_extension": ".py",
   "mimetype": "text/x-python",
   "name": "python",
   "nbconvert_exporter": "python",
   "pygments_lexer": "ipython3",
   "version": "3.7.0"
  }
 },
 "nbformat": 4,
 "nbformat_minor": 2
}
